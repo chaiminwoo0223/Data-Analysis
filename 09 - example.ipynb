{
  "nbformat": 4,
  "nbformat_minor": 0,
  "metadata": {
    "colab": {
      "private_outputs": true,
      "provenance": [],
      "mount_file_id": "12_iFvg-PxaTXL_Sm29MyMXWIkKBCFOGi",
      "authorship_tag": "ABX9TyOZYgkaedIPiI05WPwyxLuv",
      "include_colab_link": true
    },
    "kernelspec": {
      "name": "python3",
      "display_name": "Python 3"
    },
    "language_info": {
      "name": "python"
    }
  },
  "cells": [
    {
      "cell_type": "markdown",
      "metadata": {
        "id": "view-in-github",
        "colab_type": "text"
      },
      "source": [
        "<a href=\"https://colab.research.google.com/github/chaiminwoo0223/Data-Analysis/blob/main/09%20-%20example.ipynb\" target=\"_parent\"><img src=\"https://colab.research.google.com/assets/colab-badge.svg\" alt=\"Open In Colab\"/></a>"
      ]
    },
    {
      "cell_type": "code",
      "execution_count": null,
      "metadata": {
        "id": "T0wto2USSMPT"
      },
      "outputs": [],
      "source": [
        "!pip install jpype1"
      ]
    },
    {
      "cell_type": "code",
      "source": [
        "!pip install konlpy"
      ],
      "metadata": {
        "id": "THMu0oFOTaxD"
      },
      "execution_count": null,
      "outputs": []
    },
    {
      "cell_type": "code",
      "source": [
        "!pip install wordcloud"
      ],
      "metadata": {
        "id": "Mo3ZUBHEbhgn"
      },
      "execution_count": null,
      "outputs": []
    },
    {
      "cell_type": "code",
      "source": [
        "# 연설문 불러오기\n",
        "moon = open('/content/drive/MyDrive/수업/데이터 분석 입문/강의자료/Data/speech_moon.txt', encoding = 'UTF-8').read()\n",
        "moon"
      ],
      "metadata": {
        "id": "DgcYQulLTeqg"
      },
      "execution_count": null,
      "outputs": []
    },
    {
      "cell_type": "code",
      "source": [
        "# 불필요한 문자 제거하기\n",
        "import re\n",
        "moon = re.sub('[^가-힣]', ' ', moon)\n",
        "moon"
      ],
      "metadata": {
        "id": "r05O7Q2nT73g"
      },
      "execution_count": null,
      "outputs": []
    },
    {
      "cell_type": "code",
      "source": [
        "# hannanum 만들기\n",
        "import konlpy\n",
        "hannanum = konlpy.tag.Hannanum()\n",
        "# 명사 추출하기\n",
        "hannanum.nouns(\"대한민국의 영토는 한반도와 그 부속도서로 한다\")"
      ],
      "metadata": {
        "id": "lwTcyHWbVzar"
      },
      "execution_count": null,
      "outputs": []
    },
    {
      "cell_type": "code",
      "source": [
        "# 연설문에서 명사 추출하기\n",
        "nouns = hannanum.nouns(moon)\n",
        "nouns"
      ],
      "metadata": {
        "id": "AOVC92pHXfs9"
      },
      "execution_count": null,
      "outputs": []
    },
    {
      "cell_type": "code",
      "source": [
        "# 데이터 프레임으로 변환하기\n",
        "import pandas as pd\n",
        "df_word = pd.DataFrame({'word' : nouns})\n",
        "df_word"
      ],
      "metadata": {
        "id": "C25Nws6TXoYP"
      },
      "execution_count": null,
      "outputs": []
    },
    {
      "cell_type": "code",
      "source": [
        "# 글자 수 추가하기\n",
        "df_word['count'] = df_word['word'].str.len()\n",
        "df_word"
      ],
      "metadata": {
        "id": "PO84TA67YRZk"
      },
      "execution_count": null,
      "outputs": []
    },
    {
      "cell_type": "code",
      "source": [
        "# 두 글자 이상 단어만 남기기\n",
        "df_word = df_word.query('count >= 2')\n",
        "df_word.sort_values('count')"
      ],
      "metadata": {
        "id": "O7F81XAYYcYd"
      },
      "execution_count": null,
      "outputs": []
    },
    {
      "cell_type": "code",
      "source": [
        "# 단어 빈도 구하기\n",
        "df_word = df_word.groupby('word', as_index = False)\\\n",
        "                 .agg(n = ('word', 'count'))\\\n",
        "                 .sort_values('n', ascending = False)\n",
        "df_word"
      ],
      "metadata": {
        "id": "p2BPyHDiYxnd"
      },
      "execution_count": null,
      "outputs": []
    },
    {
      "cell_type": "code",
      "source": [
        "# 단어 빈도 상위 20개 추출하기\n",
        "top20 = df_word.head(20)\n",
        "top20"
      ],
      "metadata": {
        "id": "2GPEaW1gZTz4"
      },
      "execution_count": null,
      "outputs": []
    },
    {
      "cell_type": "code",
      "source": [
        "import seaborn as sns\n",
        "import matplotlib.pyplot as plt\n",
        "# 한글폰트 설정하기\n",
        "!sudo apt-get install -y fonts-nanum\n",
        "!sudo fc-cache -fv\n",
        "!rm ~/.cache/matplotlib -rf"
      ],
      "metadata": {
        "id": "NH-vrRmXZhTq"
      },
      "execution_count": null,
      "outputs": []
    },
    {
      "cell_type": "code",
      "source": [
        "plt.rcParams.update({'font.family' : 'NanumBarunGothic',\n",
        "                     'figure.dpi'  : '120',\n",
        "                     'figure.figsize' : [6.5, 6]})\n",
        "# 막대 그래프 만들기\n",
        "sns.barplot(data = top20, y = 'word', x = 'n')"
      ],
      "metadata": {
        "id": "KpsmSgSxZt2H"
      },
      "execution_count": null,
      "outputs": []
    },
    {
      "cell_type": "code",
      "source": [
        "font = '/content/drive/MyDrive/수업/데이터 분석 입문/강의자료/Data/DoHyeon-Regular.ttf'"
      ],
      "metadata": {
        "id": "NZdB9JLzcbm9"
      },
      "execution_count": null,
      "outputs": []
    },
    {
      "cell_type": "code",
      "source": [
        "# 딕셔너리로 변환하기\n",
        "dic_word = df_word.set_index('word').to_dict()['n']\n",
        "dic_word"
      ],
      "metadata": {
        "id": "jup7Tj0idMHe"
      },
      "execution_count": null,
      "outputs": []
    },
    {
      "cell_type": "code",
      "source": [
        "# wc 만들기\n",
        "from wordcloud import WordCloud\n",
        "wc = WordCloud(random_state = 1234,\n",
        "               font_path = font,\n",
        "               width = 400,\n",
        "               height = 400,\n",
        "               background_color = 'white')"
      ],
      "metadata": {
        "id": "GzsoQ1wxdobU"
      },
      "execution_count": null,
      "outputs": []
    },
    {
      "cell_type": "code",
      "source": [
        "# 워드 클라우드 만들기\n",
        "img_wordcloud = wc.generate_from_frequencies(dic_word)\n",
        "# 워드 클라우드 출력하기\n",
        "plt.figure(figsize = (10,10))\n",
        "plt.axis('off')\n",
        "plt.imshow(img_wordcloud)"
      ],
      "metadata": {
        "id": "zKO7h08-ep-n"
      },
      "execution_count": null,
      "outputs": []
    },
    {
      "cell_type": "code",
      "source": [
        "import PIL\n",
        "icon = PIL.Image.open('/content/drive/MyDrive/수업/데이터 분석 입문/강의자료/Data/cloud.png')"
      ],
      "metadata": {
        "id": "QsOKmLPJg4mf"
      },
      "execution_count": null,
      "outputs": []
    },
    {
      "cell_type": "code",
      "source": [
        "import numpy as np\n",
        "img = PIL.Image.new('RGB', icon.size, (255, 255, 255))\n",
        "img.paste(icon, icon)\n",
        "img = np.array(img)"
      ],
      "metadata": {
        "id": "BJiFEvY9hwXz"
      },
      "execution_count": null,
      "outputs": []
    },
    {
      "cell_type": "code",
      "source": [
        "# wc 만들기\n",
        "from wordcloud import WordCloud\n",
        "wc = WordCloud(random_state = 1234,\n",
        "               font_path = font,\n",
        "               width = 400,\n",
        "               height = 400,\n",
        "               background_color = 'white',\n",
        "               mask = img)"
      ],
      "metadata": {
        "id": "1ReoJIAxiVya"
      },
      "execution_count": null,
      "outputs": []
    },
    {
      "cell_type": "code",
      "source": [
        "# 워드 클라우드 만들기\n",
        "img_wordcloud = wc.generate_from_frequencies(dic_word)\n",
        "# 워드 클라우드 출력하기\n",
        "plt.figure(figsize = (10,10))\n",
        "plt.axis('off')\n",
        "plt.imshow(img_wordcloud)"
      ],
      "metadata": {
        "id": "d6X9pxvYihqg"
      },
      "execution_count": null,
      "outputs": []
    },
    {
      "cell_type": "code",
      "source": [
        "# wc 만들기\n",
        "from wordcloud import WordCloud\n",
        "wc = WordCloud(random_state = 1234,\n",
        "               font_path = font,\n",
        "               width = 400,\n",
        "               height = 400,\n",
        "               background_color = 'white',\n",
        "               mask = img,\n",
        "               colormap = 'inferno')"
      ],
      "metadata": {
        "id": "MZ87RUHvixuv"
      },
      "execution_count": null,
      "outputs": []
    },
    {
      "cell_type": "code",
      "source": [
        "# 워드 클라우드 만들기\n",
        "img_wordcloud = wc.generate_from_frequencies(dic_word)\n",
        "# 워드 클라우드 출력하기\n",
        "plt.figure(figsize = (10,10))\n",
        "plt.axis('off')\n",
        "plt.imshow(img_wordcloud)"
      ],
      "metadata": {
        "id": "Ig-GqaRojJZJ"
      },
      "execution_count": null,
      "outputs": []
    },
    {
      "cell_type": "code",
      "source": [
        "# 뉴스 기사 불러오기\n",
        "df = pd.read_csv('/content/drive/MyDrive/수업/데이터 분석 입문/강의자료/Data/news_comment_BTS.csv', encoding = 'UTF-8')\n",
        "df.info()"
      ],
      "metadata": {
        "id": "rFKd-jdljPbh"
      },
      "execution_count": null,
      "outputs": []
    },
    {
      "cell_type": "code",
      "source": [
        "# 불필요한 문자 제거하기\n",
        "df['reply'] = df['reply'].str.replace('[^가-힣]', ' ', regex = True)\n",
        "df['reply'].head()"
      ],
      "metadata": {
        "id": "3Q9nqC4_k5WS"
      },
      "execution_count": null,
      "outputs": []
    },
    {
      "cell_type": "code",
      "source": [
        "# kkma 만들기\n",
        "import konlpy\n",
        "kkma = konlpy.tag.Kkma()"
      ],
      "metadata": {
        "id": "DHRx3zqwnFfM"
      },
      "execution_count": null,
      "outputs": []
    },
    {
      "cell_type": "code",
      "source": [
        "# 명사 추출 - apply() 활용\n",
        "nouns = df['reply'].apply(kkma.nouns)\n",
        "nouns"
      ],
      "metadata": {
        "id": "gBmTNIR5nY3h"
      },
      "execution_count": null,
      "outputs": []
    },
    {
      "cell_type": "code",
      "source": [
        "# 한 행에 한 단어만 들어가도록 구성\n",
        "nouns = nouns.explode()\n",
        "nouns"
      ],
      "metadata": {
        "id": "tXAEZ4yGoH_Q"
      },
      "execution_count": null,
      "outputs": []
    },
    {
      "cell_type": "code",
      "source": [
        "# 데이터 프레임 만들기\n",
        "df_word = pd.DataFrame({'word' : nouns})\n",
        "# 글자 수 추가하기\n",
        "df_word['count'] = df_word['word'].str.len()\n",
        "# 두 글자 이상 단어만 남가기\n",
        "df_word = df_word.query('count >= 2')\n",
        "df_word"
      ],
      "metadata": {
        "id": "-MrnydL6okbp"
      },
      "execution_count": null,
      "outputs": []
    },
    {
      "cell_type": "code",
      "source": [
        "df_word = df_word.groupby('word', as_index = False)\\\n",
        "                .agg(n = ('word', 'count'))\\\n",
        "                .sort_values('n', ascending = False)\n",
        "df_word"
      ],
      "metadata": {
        "id": "jd5gAwrLq5xG"
      },
      "execution_count": null,
      "outputs": []
    },
    {
      "cell_type": "code",
      "source": [
        "# 단어 빈도 상위 20개 추출하기\n",
        "top20 = df_word.head(20)\n",
        "top20"
      ],
      "metadata": {
        "id": "Fd8seM4erqvX"
      },
      "execution_count": null,
      "outputs": []
    },
    {
      "cell_type": "code",
      "source": [
        "plt.rcParams.update({'font.family'    : 'NanumBarunGothic',\n",
        "                     'figure.dpi'     : '120',\n",
        "                     'figure.figsize' : [6.5, 6]})\n",
        "# 막대 그래프 만들기\n",
        "sns.barplot(data = top20, y = 'word', x = 'n')"
      ],
      "metadata": {
        "id": "ggWhQvyWswkF"
      },
      "execution_count": null,
      "outputs": []
    },
    {
      "cell_type": "code",
      "source": [
        "# 딕셔너리로 변환하기\n",
        "dic_word = df_word.set_index('word').to_dict()['n']"
      ],
      "metadata": {
        "id": "4IJymXUFtalT"
      },
      "execution_count": null,
      "outputs": []
    },
    {
      "cell_type": "code",
      "source": [
        "# wc 만들기\n",
        "wc = WordCloud(random_state = 1234,\n",
        "                font_path = font,\n",
        "                width = 400,\n",
        "                height = 400,\n",
        "                background_color = 'white',\n",
        "                mask = img)"
      ],
      "metadata": {
        "id": "VVGjQkHNu_Eg"
      },
      "execution_count": null,
      "outputs": []
    },
    {
      "cell_type": "code",
      "source": [
        "# 워드 클라우드 만들기\n",
        "img_wordcloud = wc.generate_from_frequencies(dic_word)\n",
        "# 워드 클라우드 출력하기\n",
        "plt.figure(figsize = (10, 10))\n",
        "plt.axis('off')\n",
        "plt.imshow(img_wordcloud)"
      ],
      "metadata": {
        "id": "0eZnoPs4vbUc"
      },
      "execution_count": null,
      "outputs": []
    },
    {
      "cell_type": "code",
      "source": [],
      "metadata": {
        "id": "Iw-Zh54lv6kr"
      },
      "execution_count": null,
      "outputs": []
    }
  ]
}