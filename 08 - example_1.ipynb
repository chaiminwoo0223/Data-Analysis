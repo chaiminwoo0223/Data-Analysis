{
  "nbformat": 4,
  "nbformat_minor": 0,
  "metadata": {
    "colab": {
      "provenance": [],
      "mount_file_id": "1csHqp_IU6JkVFDdCLgAYYBjYynXu_aek",
      "authorship_tag": "ABX9TyMqiu400dT5IrXAeCcWLHJt",
      "include_colab_link": true
    },
    "kernelspec": {
      "name": "python3",
      "display_name": "Python 3"
    },
    "language_info": {
      "name": "python"
    }
  },
  "cells": [
    {
      "cell_type": "markdown",
      "metadata": {
        "id": "view-in-github",
        "colab_type": "text"
      },
      "source": [
        "<a href=\"https://colab.research.google.com/github/chaiminwoo0223/Data-Analysis/blob/main/08%20-%20example_1.ipynb\" target=\"_parent\"><img src=\"https://colab.research.google.com/assets/colab-badge.svg\" alt=\"Open In Colab\"/></a>"
      ]
    },
    {
      "cell_type": "code",
      "execution_count": 1,
      "metadata": {
        "colab": {
          "base_uri": "https://localhost:8080/"
        },
        "id": "-Z5rsjBIQBbj",
        "outputId": "47264150-ae0e-4035-e748-081d18bce7e9"
      },
      "outputs": [
        {
          "output_type": "stream",
          "name": "stdout",
          "text": [
            "Looking in indexes: https://pypi.org/simple, https://us-python.pkg.dev/colab-wheels/public/simple/\n",
            "Collecting pyreadstat\n",
            "  Downloading pyreadstat-1.2.0-cp37-cp37m-manylinux_2_17_x86_64.manylinux2014_x86_64.whl (2.5 MB)\n",
            "\u001b[K     |████████████████████████████████| 2.5 MB 5.0 MB/s \n",
            "\u001b[?25hRequirement already satisfied: pandas>=1.2.0 in /usr/local/lib/python3.7/dist-packages (from pyreadstat) (1.3.5)\n",
            "Requirement already satisfied: numpy>=1.17.3 in /usr/local/lib/python3.7/dist-packages (from pandas>=1.2.0->pyreadstat) (1.21.6)\n",
            "Requirement already satisfied: pytz>=2017.3 in /usr/local/lib/python3.7/dist-packages (from pandas>=1.2.0->pyreadstat) (2022.5)\n",
            "Requirement already satisfied: python-dateutil>=2.7.3 in /usr/local/lib/python3.7/dist-packages (from pandas>=1.2.0->pyreadstat) (2.8.2)\n",
            "Requirement already satisfied: six>=1.5 in /usr/local/lib/python3.7/dist-packages (from python-dateutil>=2.7.3->pandas>=1.2.0->pyreadstat) (1.15.0)\n",
            "Installing collected packages: pyreadstat\n",
            "Successfully installed pyreadstat-1.2.0\n"
          ]
        }
      ],
      "source": [
        "!pip install pyreadstat"
      ]
    },
    {
      "cell_type": "code",
      "source": [
        "import pandas as pd\n",
        "import numpy as np\n",
        "import seaborn as sns"
      ],
      "metadata": {
        "id": "RHh45yNjQLxx"
      },
      "execution_count": 2,
      "outputs": []
    },
    {
      "cell_type": "code",
      "source": [
        "# 데이터 불러오기\n",
        "raw_welfare = pd.read_spss('/content/drive/MyDrive/수업/데이터 분석 입문/강의자료/Data/Koweps_hpwc14_2019_beta2.sav')\n",
        "# 복사본 만들기\n",
        "welfare = raw_welfare.copy()"
      ],
      "metadata": {
        "id": "butDuWD5QZ4y"
      },
      "execution_count": 3,
      "outputs": []
    },
    {
      "cell_type": "code",
      "source": [
        "welfare"
      ],
      "metadata": {
        "colab": {
          "base_uri": "https://localhost:8080/",
          "height": 488
        },
        "id": "hyQJDwlLQzKm",
        "outputId": "92d604bd-04fe-4c5c-afe7-c12397b23fb9"
      },
      "execution_count": 4,
      "outputs": [
        {
          "output_type": "execute_result",
          "data": {
            "text/plain": [
              "       h14_id  h14_ind  h14_sn  h14_merkey  h_new  h14_cobf   p14_wsc  \\\n",
              "0         2.0      1.0     1.0     20101.0    0.0       NaN  0.291589   \n",
              "1         3.0      1.0     1.0     30101.0    0.0       NaN  0.419753   \n",
              "2         4.0      1.0     1.0     40101.0    0.0       NaN  0.265263   \n",
              "3         6.0      1.0     1.0     60101.0    0.0       NaN  0.494906   \n",
              "4         6.0      1.0     1.0     60101.0    0.0       NaN  1.017935   \n",
              "...       ...      ...     ...         ...    ...       ...       ...   \n",
              "14413  9800.0      7.0     1.0  98000701.0    1.0       NaN       NaN   \n",
              "14414  9800.0      7.0     1.0  98000701.0    1.0       NaN       NaN   \n",
              "14415  9800.0      7.0     1.0  98000701.0    1.0       NaN       NaN   \n",
              "14416  9800.0      7.0     1.0  98000701.0    1.0       NaN       NaN   \n",
              "14417  9800.0      7.0     1.0  98000701.0    1.0       NaN       NaN   \n",
              "\n",
              "        p14_wsl      p14_wgc      p14_wgl  ...  wc14_64  wc14_65  wc14_5aq4  \\\n",
              "0      0.291589  1307.764781  1307.764781  ...      NaN                 NaN   \n",
              "1      0.419753  1882.570960  1882.570960  ...      NaN                 NaN   \n",
              "2      0.265980  1189.691668  1192.908537  ...      NaN                 NaN   \n",
              "3      0.495941  2219.630833  2224.273816  ...      1.0        .        2.0   \n",
              "4      1.017935  4565.389177  4565.389177  ...      1.0        .        1.0   \n",
              "...         ...          ...          ...  ...      ...      ...        ...   \n",
              "14413       NaN          NaN          NaN  ...      NaN                 NaN   \n",
              "14414       NaN          NaN          NaN  ...      NaN                 NaN   \n",
              "14415       NaN          NaN          NaN  ...      NaN                 NaN   \n",
              "14416       NaN          NaN          NaN  ...      5.0        .        4.0   \n",
              "14417       NaN          NaN          NaN  ...      NaN                 NaN   \n",
              "\n",
              "       wc14_5aq5  wc14_5aq6  h14_pers_income1  h14_pers_income2  \\\n",
              "0            NaN        NaN               NaN               NaN   \n",
              "1            NaN        NaN               NaN               NaN   \n",
              "2            NaN        NaN               NaN            1284.0   \n",
              "3            4.0        4.0            2304.0               NaN   \n",
              "4            5.0        2.0               NaN               NaN   \n",
              "...          ...        ...               ...               ...   \n",
              "14413        NaN        NaN               NaN               NaN   \n",
              "14414        NaN        NaN               NaN               NaN   \n",
              "14415        NaN        NaN               NaN             208.0   \n",
              "14416        3.0        3.0               NaN            1200.0   \n",
              "14417        NaN        NaN               NaN               NaN   \n",
              "\n",
              "       h14_pers_income3  h14_pers_income4  h14_pers_income5  \n",
              "0                   NaN               0.0               NaN  \n",
              "1                   NaN               0.0               NaN  \n",
              "2                   NaN               0.0               NaN  \n",
              "3                1800.0               0.0               NaN  \n",
              "4                   NaN               0.0               NaN  \n",
              "...                 ...               ...               ...  \n",
              "14413               NaN               0.0               NaN  \n",
              "14414               NaN               0.0               NaN  \n",
              "14415               NaN               0.0               NaN  \n",
              "14416               NaN               0.0               NaN  \n",
              "14417               NaN               0.0               NaN  \n",
              "\n",
              "[14418 rows x 830 columns]"
            ],
            "text/html": [
              "\n",
              "  <div id=\"df-d1ba5680-a37e-4884-8e05-ae5a397f1a9e\">\n",
              "    <div class=\"colab-df-container\">\n",
              "      <div>\n",
              "<style scoped>\n",
              "    .dataframe tbody tr th:only-of-type {\n",
              "        vertical-align: middle;\n",
              "    }\n",
              "\n",
              "    .dataframe tbody tr th {\n",
              "        vertical-align: top;\n",
              "    }\n",
              "\n",
              "    .dataframe thead th {\n",
              "        text-align: right;\n",
              "    }\n",
              "</style>\n",
              "<table border=\"1\" class=\"dataframe\">\n",
              "  <thead>\n",
              "    <tr style=\"text-align: right;\">\n",
              "      <th></th>\n",
              "      <th>h14_id</th>\n",
              "      <th>h14_ind</th>\n",
              "      <th>h14_sn</th>\n",
              "      <th>h14_merkey</th>\n",
              "      <th>h_new</th>\n",
              "      <th>h14_cobf</th>\n",
              "      <th>p14_wsc</th>\n",
              "      <th>p14_wsl</th>\n",
              "      <th>p14_wgc</th>\n",
              "      <th>p14_wgl</th>\n",
              "      <th>...</th>\n",
              "      <th>wc14_64</th>\n",
              "      <th>wc14_65</th>\n",
              "      <th>wc14_5aq4</th>\n",
              "      <th>wc14_5aq5</th>\n",
              "      <th>wc14_5aq6</th>\n",
              "      <th>h14_pers_income1</th>\n",
              "      <th>h14_pers_income2</th>\n",
              "      <th>h14_pers_income3</th>\n",
              "      <th>h14_pers_income4</th>\n",
              "      <th>h14_pers_income5</th>\n",
              "    </tr>\n",
              "  </thead>\n",
              "  <tbody>\n",
              "    <tr>\n",
              "      <th>0</th>\n",
              "      <td>2.0</td>\n",
              "      <td>1.0</td>\n",
              "      <td>1.0</td>\n",
              "      <td>20101.0</td>\n",
              "      <td>0.0</td>\n",
              "      <td>NaN</td>\n",
              "      <td>0.291589</td>\n",
              "      <td>0.291589</td>\n",
              "      <td>1307.764781</td>\n",
              "      <td>1307.764781</td>\n",
              "      <td>...</td>\n",
              "      <td>NaN</td>\n",
              "      <td></td>\n",
              "      <td>NaN</td>\n",
              "      <td>NaN</td>\n",
              "      <td>NaN</td>\n",
              "      <td>NaN</td>\n",
              "      <td>NaN</td>\n",
              "      <td>NaN</td>\n",
              "      <td>0.0</td>\n",
              "      <td>NaN</td>\n",
              "    </tr>\n",
              "    <tr>\n",
              "      <th>1</th>\n",
              "      <td>3.0</td>\n",
              "      <td>1.0</td>\n",
              "      <td>1.0</td>\n",
              "      <td>30101.0</td>\n",
              "      <td>0.0</td>\n",
              "      <td>NaN</td>\n",
              "      <td>0.419753</td>\n",
              "      <td>0.419753</td>\n",
              "      <td>1882.570960</td>\n",
              "      <td>1882.570960</td>\n",
              "      <td>...</td>\n",
              "      <td>NaN</td>\n",
              "      <td></td>\n",
              "      <td>NaN</td>\n",
              "      <td>NaN</td>\n",
              "      <td>NaN</td>\n",
              "      <td>NaN</td>\n",
              "      <td>NaN</td>\n",
              "      <td>NaN</td>\n",
              "      <td>0.0</td>\n",
              "      <td>NaN</td>\n",
              "    </tr>\n",
              "    <tr>\n",
              "      <th>2</th>\n",
              "      <td>4.0</td>\n",
              "      <td>1.0</td>\n",
              "      <td>1.0</td>\n",
              "      <td>40101.0</td>\n",
              "      <td>0.0</td>\n",
              "      <td>NaN</td>\n",
              "      <td>0.265263</td>\n",
              "      <td>0.265980</td>\n",
              "      <td>1189.691668</td>\n",
              "      <td>1192.908537</td>\n",
              "      <td>...</td>\n",
              "      <td>NaN</td>\n",
              "      <td></td>\n",
              "      <td>NaN</td>\n",
              "      <td>NaN</td>\n",
              "      <td>NaN</td>\n",
              "      <td>NaN</td>\n",
              "      <td>1284.0</td>\n",
              "      <td>NaN</td>\n",
              "      <td>0.0</td>\n",
              "      <td>NaN</td>\n",
              "    </tr>\n",
              "    <tr>\n",
              "      <th>3</th>\n",
              "      <td>6.0</td>\n",
              "      <td>1.0</td>\n",
              "      <td>1.0</td>\n",
              "      <td>60101.0</td>\n",
              "      <td>0.0</td>\n",
              "      <td>NaN</td>\n",
              "      <td>0.494906</td>\n",
              "      <td>0.495941</td>\n",
              "      <td>2219.630833</td>\n",
              "      <td>2224.273816</td>\n",
              "      <td>...</td>\n",
              "      <td>1.0</td>\n",
              "      <td>.</td>\n",
              "      <td>2.0</td>\n",
              "      <td>4.0</td>\n",
              "      <td>4.0</td>\n",
              "      <td>2304.0</td>\n",
              "      <td>NaN</td>\n",
              "      <td>1800.0</td>\n",
              "      <td>0.0</td>\n",
              "      <td>NaN</td>\n",
              "    </tr>\n",
              "    <tr>\n",
              "      <th>4</th>\n",
              "      <td>6.0</td>\n",
              "      <td>1.0</td>\n",
              "      <td>1.0</td>\n",
              "      <td>60101.0</td>\n",
              "      <td>0.0</td>\n",
              "      <td>NaN</td>\n",
              "      <td>1.017935</td>\n",
              "      <td>1.017935</td>\n",
              "      <td>4565.389177</td>\n",
              "      <td>4565.389177</td>\n",
              "      <td>...</td>\n",
              "      <td>1.0</td>\n",
              "      <td>.</td>\n",
              "      <td>1.0</td>\n",
              "      <td>5.0</td>\n",
              "      <td>2.0</td>\n",
              "      <td>NaN</td>\n",
              "      <td>NaN</td>\n",
              "      <td>NaN</td>\n",
              "      <td>0.0</td>\n",
              "      <td>NaN</td>\n",
              "    </tr>\n",
              "    <tr>\n",
              "      <th>...</th>\n",
              "      <td>...</td>\n",
              "      <td>...</td>\n",
              "      <td>...</td>\n",
              "      <td>...</td>\n",
              "      <td>...</td>\n",
              "      <td>...</td>\n",
              "      <td>...</td>\n",
              "      <td>...</td>\n",
              "      <td>...</td>\n",
              "      <td>...</td>\n",
              "      <td>...</td>\n",
              "      <td>...</td>\n",
              "      <td>...</td>\n",
              "      <td>...</td>\n",
              "      <td>...</td>\n",
              "      <td>...</td>\n",
              "      <td>...</td>\n",
              "      <td>...</td>\n",
              "      <td>...</td>\n",
              "      <td>...</td>\n",
              "      <td>...</td>\n",
              "    </tr>\n",
              "    <tr>\n",
              "      <th>14413</th>\n",
              "      <td>9800.0</td>\n",
              "      <td>7.0</td>\n",
              "      <td>1.0</td>\n",
              "      <td>98000701.0</td>\n",
              "      <td>1.0</td>\n",
              "      <td>NaN</td>\n",
              "      <td>NaN</td>\n",
              "      <td>NaN</td>\n",
              "      <td>NaN</td>\n",
              "      <td>NaN</td>\n",
              "      <td>...</td>\n",
              "      <td>NaN</td>\n",
              "      <td></td>\n",
              "      <td>NaN</td>\n",
              "      <td>NaN</td>\n",
              "      <td>NaN</td>\n",
              "      <td>NaN</td>\n",
              "      <td>NaN</td>\n",
              "      <td>NaN</td>\n",
              "      <td>0.0</td>\n",
              "      <td>NaN</td>\n",
              "    </tr>\n",
              "    <tr>\n",
              "      <th>14414</th>\n",
              "      <td>9800.0</td>\n",
              "      <td>7.0</td>\n",
              "      <td>1.0</td>\n",
              "      <td>98000701.0</td>\n",
              "      <td>1.0</td>\n",
              "      <td>NaN</td>\n",
              "      <td>NaN</td>\n",
              "      <td>NaN</td>\n",
              "      <td>NaN</td>\n",
              "      <td>NaN</td>\n",
              "      <td>...</td>\n",
              "      <td>NaN</td>\n",
              "      <td></td>\n",
              "      <td>NaN</td>\n",
              "      <td>NaN</td>\n",
              "      <td>NaN</td>\n",
              "      <td>NaN</td>\n",
              "      <td>NaN</td>\n",
              "      <td>NaN</td>\n",
              "      <td>0.0</td>\n",
              "      <td>NaN</td>\n",
              "    </tr>\n",
              "    <tr>\n",
              "      <th>14415</th>\n",
              "      <td>9800.0</td>\n",
              "      <td>7.0</td>\n",
              "      <td>1.0</td>\n",
              "      <td>98000701.0</td>\n",
              "      <td>1.0</td>\n",
              "      <td>NaN</td>\n",
              "      <td>NaN</td>\n",
              "      <td>NaN</td>\n",
              "      <td>NaN</td>\n",
              "      <td>NaN</td>\n",
              "      <td>...</td>\n",
              "      <td>NaN</td>\n",
              "      <td></td>\n",
              "      <td>NaN</td>\n",
              "      <td>NaN</td>\n",
              "      <td>NaN</td>\n",
              "      <td>NaN</td>\n",
              "      <td>208.0</td>\n",
              "      <td>NaN</td>\n",
              "      <td>0.0</td>\n",
              "      <td>NaN</td>\n",
              "    </tr>\n",
              "    <tr>\n",
              "      <th>14416</th>\n",
              "      <td>9800.0</td>\n",
              "      <td>7.0</td>\n",
              "      <td>1.0</td>\n",
              "      <td>98000701.0</td>\n",
              "      <td>1.0</td>\n",
              "      <td>NaN</td>\n",
              "      <td>NaN</td>\n",
              "      <td>NaN</td>\n",
              "      <td>NaN</td>\n",
              "      <td>NaN</td>\n",
              "      <td>...</td>\n",
              "      <td>5.0</td>\n",
              "      <td>.</td>\n",
              "      <td>4.0</td>\n",
              "      <td>3.0</td>\n",
              "      <td>3.0</td>\n",
              "      <td>NaN</td>\n",
              "      <td>1200.0</td>\n",
              "      <td>NaN</td>\n",
              "      <td>0.0</td>\n",
              "      <td>NaN</td>\n",
              "    </tr>\n",
              "    <tr>\n",
              "      <th>14417</th>\n",
              "      <td>9800.0</td>\n",
              "      <td>7.0</td>\n",
              "      <td>1.0</td>\n",
              "      <td>98000701.0</td>\n",
              "      <td>1.0</td>\n",
              "      <td>NaN</td>\n",
              "      <td>NaN</td>\n",
              "      <td>NaN</td>\n",
              "      <td>NaN</td>\n",
              "      <td>NaN</td>\n",
              "      <td>...</td>\n",
              "      <td>NaN</td>\n",
              "      <td></td>\n",
              "      <td>NaN</td>\n",
              "      <td>NaN</td>\n",
              "      <td>NaN</td>\n",
              "      <td>NaN</td>\n",
              "      <td>NaN</td>\n",
              "      <td>NaN</td>\n",
              "      <td>0.0</td>\n",
              "      <td>NaN</td>\n",
              "    </tr>\n",
              "  </tbody>\n",
              "</table>\n",
              "<p>14418 rows × 830 columns</p>\n",
              "</div>\n",
              "      <button class=\"colab-df-convert\" onclick=\"convertToInteractive('df-d1ba5680-a37e-4884-8e05-ae5a397f1a9e')\"\n",
              "              title=\"Convert this dataframe to an interactive table.\"\n",
              "              style=\"display:none;\">\n",
              "        \n",
              "  <svg xmlns=\"http://www.w3.org/2000/svg\" height=\"24px\"viewBox=\"0 0 24 24\"\n",
              "       width=\"24px\">\n",
              "    <path d=\"M0 0h24v24H0V0z\" fill=\"none\"/>\n",
              "    <path d=\"M18.56 5.44l.94 2.06.94-2.06 2.06-.94-2.06-.94-.94-2.06-.94 2.06-2.06.94zm-11 1L8.5 8.5l.94-2.06 2.06-.94-2.06-.94L8.5 2.5l-.94 2.06-2.06.94zm10 10l.94 2.06.94-2.06 2.06-.94-2.06-.94-.94-2.06-.94 2.06-2.06.94z\"/><path d=\"M17.41 7.96l-1.37-1.37c-.4-.4-.92-.59-1.43-.59-.52 0-1.04.2-1.43.59L10.3 9.45l-7.72 7.72c-.78.78-.78 2.05 0 2.83L4 21.41c.39.39.9.59 1.41.59.51 0 1.02-.2 1.41-.59l7.78-7.78 2.81-2.81c.8-.78.8-2.07 0-2.86zM5.41 20L4 18.59l7.72-7.72 1.47 1.35L5.41 20z\"/>\n",
              "  </svg>\n",
              "      </button>\n",
              "      \n",
              "  <style>\n",
              "    .colab-df-container {\n",
              "      display:flex;\n",
              "      flex-wrap:wrap;\n",
              "      gap: 12px;\n",
              "    }\n",
              "\n",
              "    .colab-df-convert {\n",
              "      background-color: #E8F0FE;\n",
              "      border: none;\n",
              "      border-radius: 50%;\n",
              "      cursor: pointer;\n",
              "      display: none;\n",
              "      fill: #1967D2;\n",
              "      height: 32px;\n",
              "      padding: 0 0 0 0;\n",
              "      width: 32px;\n",
              "    }\n",
              "\n",
              "    .colab-df-convert:hover {\n",
              "      background-color: #E2EBFA;\n",
              "      box-shadow: 0px 1px 2px rgba(60, 64, 67, 0.3), 0px 1px 3px 1px rgba(60, 64, 67, 0.15);\n",
              "      fill: #174EA6;\n",
              "    }\n",
              "\n",
              "    [theme=dark] .colab-df-convert {\n",
              "      background-color: #3B4455;\n",
              "      fill: #D2E3FC;\n",
              "    }\n",
              "\n",
              "    [theme=dark] .colab-df-convert:hover {\n",
              "      background-color: #434B5C;\n",
              "      box-shadow: 0px 1px 3px 1px rgba(0, 0, 0, 0.15);\n",
              "      filter: drop-shadow(0px 1px 2px rgba(0, 0, 0, 0.3));\n",
              "      fill: #FFFFFF;\n",
              "    }\n",
              "  </style>\n",
              "\n",
              "      <script>\n",
              "        const buttonEl =\n",
              "          document.querySelector('#df-d1ba5680-a37e-4884-8e05-ae5a397f1a9e button.colab-df-convert');\n",
              "        buttonEl.style.display =\n",
              "          google.colab.kernel.accessAllowed ? 'block' : 'none';\n",
              "\n",
              "        async function convertToInteractive(key) {\n",
              "          const element = document.querySelector('#df-d1ba5680-a37e-4884-8e05-ae5a397f1a9e');\n",
              "          const dataTable =\n",
              "            await google.colab.kernel.invokeFunction('convertToInteractive',\n",
              "                                                     [key], {});\n",
              "          if (!dataTable) return;\n",
              "\n",
              "          const docLinkHtml = 'Like what you see? Visit the ' +\n",
              "            '<a target=\"_blank\" href=https://colab.research.google.com/notebooks/data_table.ipynb>data table notebook</a>'\n",
              "            + ' to learn more about interactive tables.';\n",
              "          element.innerHTML = '';\n",
              "          dataTable['output_type'] = 'display_data';\n",
              "          await google.colab.output.renderOutput(dataTable, element);\n",
              "          const docLink = document.createElement('div');\n",
              "          docLink.innerHTML = docLinkHtml;\n",
              "          element.appendChild(docLink);\n",
              "        }\n",
              "      </script>\n",
              "    </div>\n",
              "  </div>\n",
              "  "
            ]
          },
          "metadata": {},
          "execution_count": 4
        }
      ]
    },
    {
      "cell_type": "code",
      "source": [
        "welfare.shape # (행,열)"
      ],
      "metadata": {
        "colab": {
          "base_uri": "https://localhost:8080/"
        },
        "id": "ggW-x0FjYdZ5",
        "outputId": "db18b080-c19a-4eea-a70d-591bf41e67f0"
      },
      "execution_count": 5,
      "outputs": [
        {
          "output_type": "execute_result",
          "data": {
            "text/plain": [
              "(14418, 830)"
            ]
          },
          "metadata": {},
          "execution_count": 5
        }
      ]
    },
    {
      "cell_type": "code",
      "source": [
        "welfare.info() # 변수 속성"
      ],
      "metadata": {
        "colab": {
          "base_uri": "https://localhost:8080/"
        },
        "id": "cS0uOAunYjFn",
        "outputId": "013b75b7-738c-4708-8e6a-ce0acdf5790c"
      },
      "execution_count": 6,
      "outputs": [
        {
          "output_type": "stream",
          "name": "stdout",
          "text": [
            "<class 'pandas.core.frame.DataFrame'>\n",
            "RangeIndex: 14418 entries, 0 to 14417\n",
            "Columns: 830 entries, h14_id to h14_pers_income5\n",
            "dtypes: float64(826), object(4)\n",
            "memory usage: 91.3+ MB\n"
          ]
        }
      ]
    },
    {
      "cell_type": "code",
      "source": [
        "welfare.describe() # 요약 통계량"
      ],
      "metadata": {
        "colab": {
          "base_uri": "https://localhost:8080/",
          "height": 394
        },
        "id": "OBEVZZnKYmFf",
        "outputId": "b86505a9-ffca-493e-9a93-be4f71568558"
      },
      "execution_count": 7,
      "outputs": [
        {
          "output_type": "execute_result",
          "data": {
            "text/plain": [
              "             h14_id       h14_ind        h14_sn    h14_merkey         h_new  \\\n",
              "count  14418.000000  14418.000000  14418.000000  1.441800e+04  14418.000000   \n",
              "mean    4672.108406      3.121723      1.004855  4.672140e+07      0.201484   \n",
              "std     2792.998128      3.297963      0.143205  2.793014e+07      0.401123   \n",
              "min        2.000000      1.000000      1.000000  2.010100e+04      0.000000   \n",
              "25%     2356.000000      1.000000      1.000000  2.356030e+07      0.000000   \n",
              "50%     4535.000000      1.000000      1.000000  4.535010e+07      0.000000   \n",
              "75%     6616.000000      7.000000      1.000000  6.616010e+07      0.000000   \n",
              "max     9800.000000     14.000000      9.000000  9.800070e+07      1.000000   \n",
              "\n",
              "         h14_cobf       p14_wsc       p14_wsl       p14_wgc       p14_wgl  \\\n",
              "count  121.000000  11513.000000  11513.000000  11513.000000  11513.000000   \n",
              "mean     2.256198      1.000000      1.000000   4484.952219   4484.952541   \n",
              "std      1.675952      0.906021      1.016782   4063.459773   4560.218659   \n",
              "min      1.000000      0.001998      0.000000      8.960093      0.000000   \n",
              "25%      1.000000      0.341814      0.269286   1533.021553   1207.736094   \n",
              "50%      2.000000      0.726304      0.704045   3257.436901   3157.609630   \n",
              "75%      2.000000      1.366071      1.390045   6126.762919   6234.287538   \n",
              "max      7.000000      4.727006      5.790039  21200.393903  25968.049029   \n",
              "\n",
              "       ...      wc14_63      wc14_64    wc14_5aq4    wc14_5aq5    wc14_5aq6  \\\n",
              "count  ...  2027.000000  2027.000000  2027.000000  2027.000000  2027.000000   \n",
              "mean   ...     3.211643     3.743957     3.513567     4.100641     3.233350   \n",
              "std    ...     2.174768     3.138629     1.045929     0.937712     1.289456   \n",
              "min    ...     1.000000     1.000000     1.000000     1.000000     1.000000   \n",
              "25%    ...     1.000000     2.000000     3.000000     4.000000     2.000000   \n",
              "50%    ...     3.000000     3.000000     4.000000     4.000000     3.000000   \n",
              "75%    ...     5.000000     5.000000     4.000000     5.000000     4.000000   \n",
              "max    ...     9.000000    99.000000     9.000000     9.000000     9.000000   \n",
              "\n",
              "       h14_pers_income1  h14_pers_income2  h14_pers_income3  h14_pers_income4  \\\n",
              "count       2659.000000       3331.000000        989.000000      14418.000000   \n",
              "mean        4141.380594       1389.440408       3457.835187          2.038702   \n",
              "std         2583.755449       1211.910836       6619.516319         32.965477   \n",
              "min            0.000000          0.000000     -47000.000000          0.000000   \n",
              "25%         2448.000000        391.500000       1000.000000          0.000000   \n",
              "50%         3540.000000       1116.000000       2498.000000          0.000000   \n",
              "75%         5378.500000       2040.000000       4687.000000          0.000000   \n",
              "max        22700.000000      11500.000000     170000.000000       3000.000000   \n",
              "\n",
              "       h14_pers_income5  \n",
              "count        715.000000  \n",
              "mean        1183.292308  \n",
              "std         2147.418274  \n",
              "min       -10600.000000  \n",
              "25%          206.000000  \n",
              "50%          530.000000  \n",
              "75%         1295.000000  \n",
              "max        22644.000000  \n",
              "\n",
              "[8 rows x 826 columns]"
            ],
            "text/html": [
              "\n",
              "  <div id=\"df-27a6d626-f0bf-48d9-a47f-84018a428c30\">\n",
              "    <div class=\"colab-df-container\">\n",
              "      <div>\n",
              "<style scoped>\n",
              "    .dataframe tbody tr th:only-of-type {\n",
              "        vertical-align: middle;\n",
              "    }\n",
              "\n",
              "    .dataframe tbody tr th {\n",
              "        vertical-align: top;\n",
              "    }\n",
              "\n",
              "    .dataframe thead th {\n",
              "        text-align: right;\n",
              "    }\n",
              "</style>\n",
              "<table border=\"1\" class=\"dataframe\">\n",
              "  <thead>\n",
              "    <tr style=\"text-align: right;\">\n",
              "      <th></th>\n",
              "      <th>h14_id</th>\n",
              "      <th>h14_ind</th>\n",
              "      <th>h14_sn</th>\n",
              "      <th>h14_merkey</th>\n",
              "      <th>h_new</th>\n",
              "      <th>h14_cobf</th>\n",
              "      <th>p14_wsc</th>\n",
              "      <th>p14_wsl</th>\n",
              "      <th>p14_wgc</th>\n",
              "      <th>p14_wgl</th>\n",
              "      <th>...</th>\n",
              "      <th>wc14_63</th>\n",
              "      <th>wc14_64</th>\n",
              "      <th>wc14_5aq4</th>\n",
              "      <th>wc14_5aq5</th>\n",
              "      <th>wc14_5aq6</th>\n",
              "      <th>h14_pers_income1</th>\n",
              "      <th>h14_pers_income2</th>\n",
              "      <th>h14_pers_income3</th>\n",
              "      <th>h14_pers_income4</th>\n",
              "      <th>h14_pers_income5</th>\n",
              "    </tr>\n",
              "  </thead>\n",
              "  <tbody>\n",
              "    <tr>\n",
              "      <th>count</th>\n",
              "      <td>14418.000000</td>\n",
              "      <td>14418.000000</td>\n",
              "      <td>14418.000000</td>\n",
              "      <td>1.441800e+04</td>\n",
              "      <td>14418.000000</td>\n",
              "      <td>121.000000</td>\n",
              "      <td>11513.000000</td>\n",
              "      <td>11513.000000</td>\n",
              "      <td>11513.000000</td>\n",
              "      <td>11513.000000</td>\n",
              "      <td>...</td>\n",
              "      <td>2027.000000</td>\n",
              "      <td>2027.000000</td>\n",
              "      <td>2027.000000</td>\n",
              "      <td>2027.000000</td>\n",
              "      <td>2027.000000</td>\n",
              "      <td>2659.000000</td>\n",
              "      <td>3331.000000</td>\n",
              "      <td>989.000000</td>\n",
              "      <td>14418.000000</td>\n",
              "      <td>715.000000</td>\n",
              "    </tr>\n",
              "    <tr>\n",
              "      <th>mean</th>\n",
              "      <td>4672.108406</td>\n",
              "      <td>3.121723</td>\n",
              "      <td>1.004855</td>\n",
              "      <td>4.672140e+07</td>\n",
              "      <td>0.201484</td>\n",
              "      <td>2.256198</td>\n",
              "      <td>1.000000</td>\n",
              "      <td>1.000000</td>\n",
              "      <td>4484.952219</td>\n",
              "      <td>4484.952541</td>\n",
              "      <td>...</td>\n",
              "      <td>3.211643</td>\n",
              "      <td>3.743957</td>\n",
              "      <td>3.513567</td>\n",
              "      <td>4.100641</td>\n",
              "      <td>3.233350</td>\n",
              "      <td>4141.380594</td>\n",
              "      <td>1389.440408</td>\n",
              "      <td>3457.835187</td>\n",
              "      <td>2.038702</td>\n",
              "      <td>1183.292308</td>\n",
              "    </tr>\n",
              "    <tr>\n",
              "      <th>std</th>\n",
              "      <td>2792.998128</td>\n",
              "      <td>3.297963</td>\n",
              "      <td>0.143205</td>\n",
              "      <td>2.793014e+07</td>\n",
              "      <td>0.401123</td>\n",
              "      <td>1.675952</td>\n",
              "      <td>0.906021</td>\n",
              "      <td>1.016782</td>\n",
              "      <td>4063.459773</td>\n",
              "      <td>4560.218659</td>\n",
              "      <td>...</td>\n",
              "      <td>2.174768</td>\n",
              "      <td>3.138629</td>\n",
              "      <td>1.045929</td>\n",
              "      <td>0.937712</td>\n",
              "      <td>1.289456</td>\n",
              "      <td>2583.755449</td>\n",
              "      <td>1211.910836</td>\n",
              "      <td>6619.516319</td>\n",
              "      <td>32.965477</td>\n",
              "      <td>2147.418274</td>\n",
              "    </tr>\n",
              "    <tr>\n",
              "      <th>min</th>\n",
              "      <td>2.000000</td>\n",
              "      <td>1.000000</td>\n",
              "      <td>1.000000</td>\n",
              "      <td>2.010100e+04</td>\n",
              "      <td>0.000000</td>\n",
              "      <td>1.000000</td>\n",
              "      <td>0.001998</td>\n",
              "      <td>0.000000</td>\n",
              "      <td>8.960093</td>\n",
              "      <td>0.000000</td>\n",
              "      <td>...</td>\n",
              "      <td>1.000000</td>\n",
              "      <td>1.000000</td>\n",
              "      <td>1.000000</td>\n",
              "      <td>1.000000</td>\n",
              "      <td>1.000000</td>\n",
              "      <td>0.000000</td>\n",
              "      <td>0.000000</td>\n",
              "      <td>-47000.000000</td>\n",
              "      <td>0.000000</td>\n",
              "      <td>-10600.000000</td>\n",
              "    </tr>\n",
              "    <tr>\n",
              "      <th>25%</th>\n",
              "      <td>2356.000000</td>\n",
              "      <td>1.000000</td>\n",
              "      <td>1.000000</td>\n",
              "      <td>2.356030e+07</td>\n",
              "      <td>0.000000</td>\n",
              "      <td>1.000000</td>\n",
              "      <td>0.341814</td>\n",
              "      <td>0.269286</td>\n",
              "      <td>1533.021553</td>\n",
              "      <td>1207.736094</td>\n",
              "      <td>...</td>\n",
              "      <td>1.000000</td>\n",
              "      <td>2.000000</td>\n",
              "      <td>3.000000</td>\n",
              "      <td>4.000000</td>\n",
              "      <td>2.000000</td>\n",
              "      <td>2448.000000</td>\n",
              "      <td>391.500000</td>\n",
              "      <td>1000.000000</td>\n",
              "      <td>0.000000</td>\n",
              "      <td>206.000000</td>\n",
              "    </tr>\n",
              "    <tr>\n",
              "      <th>50%</th>\n",
              "      <td>4535.000000</td>\n",
              "      <td>1.000000</td>\n",
              "      <td>1.000000</td>\n",
              "      <td>4.535010e+07</td>\n",
              "      <td>0.000000</td>\n",
              "      <td>2.000000</td>\n",
              "      <td>0.726304</td>\n",
              "      <td>0.704045</td>\n",
              "      <td>3257.436901</td>\n",
              "      <td>3157.609630</td>\n",
              "      <td>...</td>\n",
              "      <td>3.000000</td>\n",
              "      <td>3.000000</td>\n",
              "      <td>4.000000</td>\n",
              "      <td>4.000000</td>\n",
              "      <td>3.000000</td>\n",
              "      <td>3540.000000</td>\n",
              "      <td>1116.000000</td>\n",
              "      <td>2498.000000</td>\n",
              "      <td>0.000000</td>\n",
              "      <td>530.000000</td>\n",
              "    </tr>\n",
              "    <tr>\n",
              "      <th>75%</th>\n",
              "      <td>6616.000000</td>\n",
              "      <td>7.000000</td>\n",
              "      <td>1.000000</td>\n",
              "      <td>6.616010e+07</td>\n",
              "      <td>0.000000</td>\n",
              "      <td>2.000000</td>\n",
              "      <td>1.366071</td>\n",
              "      <td>1.390045</td>\n",
              "      <td>6126.762919</td>\n",
              "      <td>6234.287538</td>\n",
              "      <td>...</td>\n",
              "      <td>5.000000</td>\n",
              "      <td>5.000000</td>\n",
              "      <td>4.000000</td>\n",
              "      <td>5.000000</td>\n",
              "      <td>4.000000</td>\n",
              "      <td>5378.500000</td>\n",
              "      <td>2040.000000</td>\n",
              "      <td>4687.000000</td>\n",
              "      <td>0.000000</td>\n",
              "      <td>1295.000000</td>\n",
              "    </tr>\n",
              "    <tr>\n",
              "      <th>max</th>\n",
              "      <td>9800.000000</td>\n",
              "      <td>14.000000</td>\n",
              "      <td>9.000000</td>\n",
              "      <td>9.800070e+07</td>\n",
              "      <td>1.000000</td>\n",
              "      <td>7.000000</td>\n",
              "      <td>4.727006</td>\n",
              "      <td>5.790039</td>\n",
              "      <td>21200.393903</td>\n",
              "      <td>25968.049029</td>\n",
              "      <td>...</td>\n",
              "      <td>9.000000</td>\n",
              "      <td>99.000000</td>\n",
              "      <td>9.000000</td>\n",
              "      <td>9.000000</td>\n",
              "      <td>9.000000</td>\n",
              "      <td>22700.000000</td>\n",
              "      <td>11500.000000</td>\n",
              "      <td>170000.000000</td>\n",
              "      <td>3000.000000</td>\n",
              "      <td>22644.000000</td>\n",
              "    </tr>\n",
              "  </tbody>\n",
              "</table>\n",
              "<p>8 rows × 826 columns</p>\n",
              "</div>\n",
              "      <button class=\"colab-df-convert\" onclick=\"convertToInteractive('df-27a6d626-f0bf-48d9-a47f-84018a428c30')\"\n",
              "              title=\"Convert this dataframe to an interactive table.\"\n",
              "              style=\"display:none;\">\n",
              "        \n",
              "  <svg xmlns=\"http://www.w3.org/2000/svg\" height=\"24px\"viewBox=\"0 0 24 24\"\n",
              "       width=\"24px\">\n",
              "    <path d=\"M0 0h24v24H0V0z\" fill=\"none\"/>\n",
              "    <path d=\"M18.56 5.44l.94 2.06.94-2.06 2.06-.94-2.06-.94-.94-2.06-.94 2.06-2.06.94zm-11 1L8.5 8.5l.94-2.06 2.06-.94-2.06-.94L8.5 2.5l-.94 2.06-2.06.94zm10 10l.94 2.06.94-2.06 2.06-.94-2.06-.94-.94-2.06-.94 2.06-2.06.94z\"/><path d=\"M17.41 7.96l-1.37-1.37c-.4-.4-.92-.59-1.43-.59-.52 0-1.04.2-1.43.59L10.3 9.45l-7.72 7.72c-.78.78-.78 2.05 0 2.83L4 21.41c.39.39.9.59 1.41.59.51 0 1.02-.2 1.41-.59l7.78-7.78 2.81-2.81c.8-.78.8-2.07 0-2.86zM5.41 20L4 18.59l7.72-7.72 1.47 1.35L5.41 20z\"/>\n",
              "  </svg>\n",
              "      </button>\n",
              "      \n",
              "  <style>\n",
              "    .colab-df-container {\n",
              "      display:flex;\n",
              "      flex-wrap:wrap;\n",
              "      gap: 12px;\n",
              "    }\n",
              "\n",
              "    .colab-df-convert {\n",
              "      background-color: #E8F0FE;\n",
              "      border: none;\n",
              "      border-radius: 50%;\n",
              "      cursor: pointer;\n",
              "      display: none;\n",
              "      fill: #1967D2;\n",
              "      height: 32px;\n",
              "      padding: 0 0 0 0;\n",
              "      width: 32px;\n",
              "    }\n",
              "\n",
              "    .colab-df-convert:hover {\n",
              "      background-color: #E2EBFA;\n",
              "      box-shadow: 0px 1px 2px rgba(60, 64, 67, 0.3), 0px 1px 3px 1px rgba(60, 64, 67, 0.15);\n",
              "      fill: #174EA6;\n",
              "    }\n",
              "\n",
              "    [theme=dark] .colab-df-convert {\n",
              "      background-color: #3B4455;\n",
              "      fill: #D2E3FC;\n",
              "    }\n",
              "\n",
              "    [theme=dark] .colab-df-convert:hover {\n",
              "      background-color: #434B5C;\n",
              "      box-shadow: 0px 1px 3px 1px rgba(0, 0, 0, 0.15);\n",
              "      filter: drop-shadow(0px 1px 2px rgba(0, 0, 0, 0.3));\n",
              "      fill: #FFFFFF;\n",
              "    }\n",
              "  </style>\n",
              "\n",
              "      <script>\n",
              "        const buttonEl =\n",
              "          document.querySelector('#df-27a6d626-f0bf-48d9-a47f-84018a428c30 button.colab-df-convert');\n",
              "        buttonEl.style.display =\n",
              "          google.colab.kernel.accessAllowed ? 'block' : 'none';\n",
              "\n",
              "        async function convertToInteractive(key) {\n",
              "          const element = document.querySelector('#df-27a6d626-f0bf-48d9-a47f-84018a428c30');\n",
              "          const dataTable =\n",
              "            await google.colab.kernel.invokeFunction('convertToInteractive',\n",
              "                                                     [key], {});\n",
              "          if (!dataTable) return;\n",
              "\n",
              "          const docLinkHtml = 'Like what you see? Visit the ' +\n",
              "            '<a target=\"_blank\" href=https://colab.research.google.com/notebooks/data_table.ipynb>data table notebook</a>'\n",
              "            + ' to learn more about interactive tables.';\n",
              "          element.innerHTML = '';\n",
              "          dataTable['output_type'] = 'display_data';\n",
              "          await google.colab.output.renderOutput(dataTable, element);\n",
              "          const docLink = document.createElement('div');\n",
              "          docLink.innerHTML = docLinkHtml;\n",
              "          element.appendChild(docLink);\n",
              "        }\n",
              "      </script>\n",
              "    </div>\n",
              "  </div>\n",
              "  "
            ]
          },
          "metadata": {},
          "execution_count": 7
        }
      ]
    },
    {
      "cell_type": "code",
      "source": [
        "welfare = welfare.rename(\n",
        "    columns = {'h14_g3' : 'sex',\n",
        "               'h14_g4' : 'birth',\n",
        "               'h14_g10' : 'marriage_type',\n",
        "               'h14_g11' : 'religion',\n",
        "               'p1402_8aq1' : 'income',\n",
        "               'h14_eco9' : 'code_job',\n",
        "               'h14_reg7' : 'code_region'})"
      ],
      "metadata": {
        "id": "rJngNna4RamS"
      },
      "execution_count": 8,
      "outputs": []
    },
    {
      "cell_type": "code",
      "source": [
        "welfare['sex']"
      ],
      "metadata": {
        "colab": {
          "base_uri": "https://localhost:8080/"
        },
        "id": "Qz3G0JwYaHNf",
        "outputId": "49b6c70c-b5e6-4426-a281-0a33f8aaccce"
      },
      "execution_count": 9,
      "outputs": [
        {
          "output_type": "execute_result",
          "data": {
            "text/plain": [
              "0        2.0\n",
              "1        1.0\n",
              "2        1.0\n",
              "3        1.0\n",
              "4        2.0\n",
              "        ... \n",
              "14413    2.0\n",
              "14414    2.0\n",
              "14415    1.0\n",
              "14416    2.0\n",
              "14417    1.0\n",
              "Name: sex, Length: 14418, dtype: float64"
            ]
          },
          "metadata": {},
          "execution_count": 9
        }
      ]
    },
    {
      "cell_type": "code",
      "source": [
        "welfare['sex'].dtypes # 변수 타입"
      ],
      "metadata": {
        "colab": {
          "base_uri": "https://localhost:8080/"
        },
        "id": "Q7Akeb1TWLGP",
        "outputId": "d0b56d62-0172-4312-dcd0-c3fbc8b0e501"
      },
      "execution_count": 10,
      "outputs": [
        {
          "output_type": "execute_result",
          "data": {
            "text/plain": [
              "dtype('float64')"
            ]
          },
          "metadata": {},
          "execution_count": 10
        }
      ]
    },
    {
      "cell_type": "code",
      "source": [
        "welfare['sex'].value_counts() # 빈도 구하기"
      ],
      "metadata": {
        "colab": {
          "base_uri": "https://localhost:8080/"
        },
        "id": "YU9MYKUsXdi2",
        "outputId": "6e37d6ab-8526-415f-bbf6-c75546cd5ba9"
      },
      "execution_count": 11,
      "outputs": [
        {
          "output_type": "execute_result",
          "data": {
            "text/plain": [
              "2.0    7913\n",
              "1.0    6505\n",
              "Name: sex, dtype: int64"
            ]
          },
          "metadata": {},
          "execution_count": 11
        }
      ]
    },
    {
      "cell_type": "code",
      "source": [
        "welfare['sex'].value_counts() # 이상치 확인하기"
      ],
      "metadata": {
        "colab": {
          "base_uri": "https://localhost:8080/"
        },
        "id": "3ujhTwz0cBLn",
        "outputId": "46b3d824-69d5-4409-bef0-4b75f8be9461"
      },
      "execution_count": 12,
      "outputs": [
        {
          "output_type": "execute_result",
          "data": {
            "text/plain": [
              "2.0    7913\n",
              "1.0    6505\n",
              "Name: sex, dtype: int64"
            ]
          },
          "metadata": {},
          "execution_count": 12
        }
      ]
    },
    {
      "cell_type": "code",
      "source": [
        "# 성별 항목 이름 부여하기\n",
        "welfare['sex'] = np.where(welfare['sex'] == 1, 'male', 'female')\n",
        "# 빈도 구하기\n",
        "welfare['sex'].value_counts()"
      ],
      "metadata": {
        "colab": {
          "base_uri": "https://localhost:8080/"
        },
        "id": "An_swosdcL9M",
        "outputId": "ed388b0b-b25c-4a43-c211-4dbb959a98d5"
      },
      "execution_count": 13,
      "outputs": [
        {
          "output_type": "execute_result",
          "data": {
            "text/plain": [
              "female    7913\n",
              "male      6505\n",
              "Name: sex, dtype: int64"
            ]
          },
          "metadata": {},
          "execution_count": 13
        }
      ]
    },
    {
      "cell_type": "code",
      "source": [
        "sns.countplot(data = welfare, x = 'sex') # 빈도 막대 그래프"
      ],
      "metadata": {
        "colab": {
          "base_uri": "https://localhost:8080/",
          "height": 297
        },
        "id": "fMBTVNv1YUaX",
        "outputId": "710cf7f1-daea-4907-cd09-3bcabcf46371"
      },
      "execution_count": 14,
      "outputs": [
        {
          "output_type": "execute_result",
          "data": {
            "text/plain": [
              "<matplotlib.axes._subplots.AxesSubplot at 0x7f8d74b1ef50>"
            ]
          },
          "metadata": {},
          "execution_count": 14
        },
        {
          "output_type": "display_data",
          "data": {
            "text/plain": [
              "<Figure size 432x288 with 1 Axes>"
            ],
            "image/png": "[encoded data removed]"
          },
          "metadata": {
            "needs_background": "light"
          }
        }
      ]
    },
    {
      "cell_type": "code",
      "source": [
        "welfare['income']"
      ],
      "metadata": {
        "colab": {
          "base_uri": "https://localhost:8080/"
        },
        "id": "Juc5mnFWegEh",
        "outputId": "2a958f37-ef5a-41ac-caa4-d73c5760db46"
      },
      "execution_count": 15,
      "outputs": [
        {
          "output_type": "execute_result",
          "data": {
            "text/plain": [
              "0          NaN\n",
              "1          NaN\n",
              "2        107.0\n",
              "3        192.0\n",
              "4          NaN\n",
              "         ...  \n",
              "14413      NaN\n",
              "14414      NaN\n",
              "14415      NaN\n",
              "14416    200.0\n",
              "14417      NaN\n",
              "Name: income, Length: 14418, dtype: float64"
            ]
          },
          "metadata": {},
          "execution_count": 15
        }
      ]
    },
    {
      "cell_type": "code",
      "source": [
        "welfare['income'].dtypes # 변수 타입                                                    "
      ],
      "metadata": {
        "colab": {
          "base_uri": "https://localhost:8080/"
        },
        "id": "cjvkXXknaQJZ",
        "outputId": "e179631c-bde7-4233-f894-c2e7d1aabff5"
      },
      "execution_count": 16,
      "outputs": [
        {
          "output_type": "execute_result",
          "data": {
            "text/plain": [
              "dtype('float64')"
            ]
          },
          "metadata": {},
          "execution_count": 16
        }
      ]
    },
    {
      "cell_type": "code",
      "source": [
        "welfare['income'].describe() # 요약 통계량"
      ],
      "metadata": {
        "colab": {
          "base_uri": "https://localhost:8080/"
        },
        "id": "dFuPUPUuajSY",
        "outputId": "cf8733c0-00d2-41f8-c1b4-168fe0f303fc"
      },
      "execution_count": 17,
      "outputs": [
        {
          "output_type": "execute_result",
          "data": {
            "text/plain": [
              "count    4534.000000\n",
              "mean      268.455007\n",
              "std       198.021206\n",
              "min         0.000000\n",
              "25%       150.000000\n",
              "50%       220.000000\n",
              "75%       345.750000\n",
              "max      1892.000000\n",
              "Name: income, dtype: float64"
            ]
          },
          "metadata": {},
          "execution_count": 17
        }
      ]
    },
    {
      "cell_type": "code",
      "source": [
        "sns.histplot(data = welfare, x = 'income') # 히스토그램"
      ],
      "metadata": {
        "colab": {
          "base_uri": "https://localhost:8080/",
          "height": 297
        },
        "id": "Vrm4MLc9bZc-",
        "outputId": "8b873fd1-9f42-48c3-8b40-6e64138d826d"
      },
      "execution_count": 18,
      "outputs": [
        {
          "output_type": "execute_result",
          "data": {
            "text/plain": [
              "<matplotlib.axes._subplots.AxesSubplot at 0x7f8d74358210>"
            ]
          },
          "metadata": {},
          "execution_count": 18
        },
        {
          "output_type": "display_data",
          "data": {
            "text/plain": [
              "<Figure size 432x288 with 1 Axes>"
            ],
            "image/png": "[encoded data removed]"
          },
          "metadata": {
            "needs_background": "light"
          }
        }
      ]
    },
    {
      "cell_type": "code",
      "source": [
        "welfare['income'].describe() # 이상치 확인하기"
      ],
      "metadata": {
        "colab": {
          "base_uri": "https://localhost:8080/"
        },
        "id": "8SG8ZBhlbfqm",
        "outputId": "921a208c-d23a-4b87-e37b-59c1f03d9fd6"
      },
      "execution_count": 19,
      "outputs": [
        {
          "output_type": "execute_result",
          "data": {
            "text/plain": [
              "count    4534.000000\n",
              "mean      268.455007\n",
              "std       198.021206\n",
              "min         0.000000\n",
              "25%       150.000000\n",
              "50%       220.000000\n",
              "75%       345.750000\n",
              "max      1892.000000\n",
              "Name: income, dtype: float64"
            ]
          },
          "metadata": {},
          "execution_count": 19
        }
      ]
    },
    {
      "cell_type": "code",
      "source": [
        "welfare['income'].isna().sum() # 결측치 확인하기"
      ],
      "metadata": {
        "colab": {
          "base_uri": "https://localhost:8080/"
        },
        "id": "s4AM1R37cdPG",
        "outputId": "76c73373-01e3-4e48-f712-a274057edd18"
      },
      "execution_count": 20,
      "outputs": [
        {
          "output_type": "execute_result",
          "data": {
            "text/plain": [
              "9884"
            ]
          },
          "metadata": {},
          "execution_count": 20
        }
      ]
    },
    {
      "cell_type": "code",
      "source": [
        "sex_income = welfare.dropna(subset = ['income'])\\\n",
        "                    .groupby('sex', as_index = False)\\\n",
        "                    .agg(mean_income = ('income', 'mean'))\n",
        "sex_income # 성별 월급 평균표"
      ],
      "metadata": {
        "colab": {
          "base_uri": "https://localhost:8080/",
          "height": 112
        },
        "id": "gMTkeVBDc7bN",
        "outputId": "cdcfba9c-d1f5-471b-fb6b-925295c1601d"
      },
      "execution_count": 21,
      "outputs": [
        {
          "output_type": "execute_result",
          "data": {
            "text/plain": [
              "      sex  mean_income\n",
              "0  female   186.293096\n",
              "1    male   349.037571"
            ],
            "text/html": [
              "\n",
              "  <div id=\"df-eb6e91a2-8495-4270-b390-6feed04e5e44\">\n",
              "    <div class=\"colab-df-container\">\n",
              "      <div>\n",
              "<style scoped>\n",
              "    .dataframe tbody tr th:only-of-type {\n",
              "        vertical-align: middle;\n",
              "    }\n",
              "\n",
              "    .dataframe tbody tr th {\n",
              "        vertical-align: top;\n",
              "    }\n",
              "\n",
              "    .dataframe thead th {\n",
              "        text-align: right;\n",
              "    }\n",
              "</style>\n",
              "<table border=\"1\" class=\"dataframe\">\n",
              "  <thead>\n",
              "    <tr style=\"text-align: right;\">\n",
              "      <th></th>\n",
              "      <th>sex</th>\n",
              "      <th>mean_income</th>\n",
              "    </tr>\n",
              "  </thead>\n",
              "  <tbody>\n",
              "    <tr>\n",
              "      <th>0</th>\n",
              "      <td>female</td>\n",
              "      <td>186.293096</td>\n",
              "    </tr>\n",
              "    <tr>\n",
              "      <th>1</th>\n",
              "      <td>male</td>\n",
              "      <td>349.037571</td>\n",
              "    </tr>\n",
              "  </tbody>\n",
              "</table>\n",
              "</div>\n",
              "      <button class=\"colab-df-convert\" onclick=\"convertToInteractive('df-eb6e91a2-8495-4270-b390-6feed04e5e44')\"\n",
              "              title=\"Convert this dataframe to an interactive table.\"\n",
              "              style=\"display:none;\">\n",
              "        \n",
              "  <svg xmlns=\"http://www.w3.org/2000/svg\" height=\"24px\"viewBox=\"0 0 24 24\"\n",
              "       width=\"24px\">\n",
              "    <path d=\"M0 0h24v24H0V0z\" fill=\"none\"/>\n",
              "    <path d=\"M18.56 5.44l.94 2.06.94-2.06 2.06-.94-2.06-.94-.94-2.06-.94 2.06-2.06.94zm-11 1L8.5 8.5l.94-2.06 2.06-.94-2.06-.94L8.5 2.5l-.94 2.06-2.06.94zm10 10l.94 2.06.94-2.06 2.06-.94-2.06-.94-.94-2.06-.94 2.06-2.06.94z\"/><path d=\"M17.41 7.96l-1.37-1.37c-.4-.4-.92-.59-1.43-.59-.52 0-1.04.2-1.43.59L10.3 9.45l-7.72 7.72c-.78.78-.78 2.05 0 2.83L4 21.41c.39.39.9.59 1.41.59.51 0 1.02-.2 1.41-.59l7.78-7.78 2.81-2.81c.8-.78.8-2.07 0-2.86zM5.41 20L4 18.59l7.72-7.72 1.47 1.35L5.41 20z\"/>\n",
              "  </svg>\n",
              "      </button>\n",
              "      \n",
              "  <style>\n",
              "    .colab-df-container {\n",
              "      display:flex;\n",
              "      flex-wrap:wrap;\n",
              "      gap: 12px;\n",
              "    }\n",
              "\n",
              "    .colab-df-convert {\n",
              "      background-color: #E8F0FE;\n",
              "      border: none;\n",
              "      border-radius: 50%;\n",
              "      cursor: pointer;\n",
              "      display: none;\n",
              "      fill: #1967D2;\n",
              "      height: 32px;\n",
              "      padding: 0 0 0 0;\n",
              "      width: 32px;\n",
              "    }\n",
              "\n",
              "    .colab-df-convert:hover {\n",
              "      background-color: #E2EBFA;\n",
              "      box-shadow: 0px 1px 2px rgba(60, 64, 67, 0.3), 0px 1px 3px 1px rgba(60, 64, 67, 0.15);\n",
              "      fill: #174EA6;\n",
              "    }\n",
              "\n",
              "    [theme=dark] .colab-df-convert {\n",
              "      background-color: #3B4455;\n",
              "      fill: #D2E3FC;\n",
              "    }\n",
              "\n",
              "    [theme=dark] .colab-df-convert:hover {\n",
              "      background-color: #434B5C;\n",
              "      box-shadow: 0px 1px 3px 1px rgba(0, 0, 0, 0.15);\n",
              "      filter: drop-shadow(0px 1px 2px rgba(0, 0, 0, 0.3));\n",
              "      fill: #FFFFFF;\n",
              "    }\n",
              "  </style>\n",
              "\n",
              "      <script>\n",
              "        const buttonEl =\n",
              "          document.querySelector('#df-eb6e91a2-8495-4270-b390-6feed04e5e44 button.colab-df-convert');\n",
              "        buttonEl.style.display =\n",
              "          google.colab.kernel.accessAllowed ? 'block' : 'none';\n",
              "\n",
              "        async function convertToInteractive(key) {\n",
              "          const element = document.querySelector('#df-eb6e91a2-8495-4270-b390-6feed04e5e44');\n",
              "          const dataTable =\n",
              "            await google.colab.kernel.invokeFunction('convertToInteractive',\n",
              "                                                     [key], {});\n",
              "          if (!dataTable) return;\n",
              "\n",
              "          const docLinkHtml = 'Like what you see? Visit the ' +\n",
              "            '<a target=\"_blank\" href=https://colab.research.google.com/notebooks/data_table.ipynb>data table notebook</a>'\n",
              "            + ' to learn more about interactive tables.';\n",
              "          element.innerHTML = '';\n",
              "          dataTable['output_type'] = 'display_data';\n",
              "          await google.colab.output.renderOutput(dataTable, element);\n",
              "          const docLink = document.createElement('div');\n",
              "          docLink.innerHTML = docLinkHtml;\n",
              "          element.appendChild(docLink);\n",
              "        }\n",
              "      </script>\n",
              "    </div>\n",
              "  </div>\n",
              "  "
            ]
          },
          "metadata": {},
          "execution_count": 21
        }
      ]
    },
    {
      "cell_type": "code",
      "source": [
        "welfare['birth']"
      ],
      "metadata": {
        "colab": {
          "base_uri": "https://localhost:8080/"
        },
        "id": "KMnX_PXNeikh",
        "outputId": "12957259-659f-4ffd-b875-5bb36eff9b5a"
      },
      "execution_count": 22,
      "outputs": [
        {
          "output_type": "execute_result",
          "data": {
            "text/plain": [
              "0        1945.0\n",
              "1        1948.0\n",
              "2        1942.0\n",
              "3        1962.0\n",
              "4        1963.0\n",
              "          ...  \n",
              "14413    1967.0\n",
              "14414    1992.0\n",
              "14415    1995.0\n",
              "14416    1998.0\n",
              "14417    2001.0\n",
              "Name: birth, Length: 14418, dtype: float64"
            ]
          },
          "metadata": {},
          "execution_count": 22
        }
      ]
    },
    {
      "cell_type": "code",
      "source": [
        "welfare['birth'].dtypes # 변수 타입"
      ],
      "metadata": {
        "colab": {
          "base_uri": "https://localhost:8080/"
        },
        "id": "opVgt08cd48y",
        "outputId": "c480fabe-260f-41f8-d58c-f4daa9dbe2c2"
      },
      "execution_count": 23,
      "outputs": [
        {
          "output_type": "execute_result",
          "data": {
            "text/plain": [
              "dtype('float64')"
            ]
          },
          "metadata": {},
          "execution_count": 23
        }
      ]
    },
    {
      "cell_type": "code",
      "source": [
        "welfare['birth'].describe() # 요약 통계량"
      ],
      "metadata": {
        "colab": {
          "base_uri": "https://localhost:8080/"
        },
        "id": "aQ1E22SaebTg",
        "outputId": "2a60ca1f-94e9-49bb-fb53-60e11840653f"
      },
      "execution_count": 24,
      "outputs": [
        {
          "output_type": "execute_result",
          "data": {
            "text/plain": [
              "count    14418.000000\n",
              "mean      1969.280205\n",
              "std         24.402250\n",
              "min       1907.000000\n",
              "25%       1948.000000\n",
              "50%       1968.000000\n",
              "75%       1990.000000\n",
              "max       2018.000000\n",
              "Name: birth, dtype: float64"
            ]
          },
          "metadata": {},
          "execution_count": 24
        }
      ]
    },
    {
      "cell_type": "code",
      "source": [
        "sns.histplot(data = welfare, x = 'birth') # 히스토그램"
      ],
      "metadata": {
        "colab": {
          "base_uri": "https://localhost:8080/",
          "height": 297
        },
        "id": "9FanLv_IerQT",
        "outputId": "c8a12718-450e-46a4-aa07-34752ba1f825"
      },
      "execution_count": 25,
      "outputs": [
        {
          "output_type": "execute_result",
          "data": {
            "text/plain": [
              "<matplotlib.axes._subplots.AxesSubplot at 0x7f8d74549150>"
            ]
          },
          "metadata": {},
          "execution_count": 25
        },
        {
          "output_type": "display_data",
          "data": {
            "text/plain": [
              "<Figure size 432x288 with 1 Axes>"
            ],
            "image/png": "[encoded data removed]"
          },
          "metadata": {
            "needs_background": "light"
          }
        }
      ]
    },
    {
      "cell_type": "code",
      "source": [
        "welfare['birth'].describe() # 이상치 확인하기"
      ],
      "metadata": {
        "colab": {
          "base_uri": "https://localhost:8080/"
        },
        "id": "Wc1nNStNexK7",
        "outputId": "ee2386ed-e54c-4bfa-e022-484309b46065"
      },
      "execution_count": 26,
      "outputs": [
        {
          "output_type": "execute_result",
          "data": {
            "text/plain": [
              "count    14418.000000\n",
              "mean      1969.280205\n",
              "std         24.402250\n",
              "min       1907.000000\n",
              "25%       1948.000000\n",
              "50%       1968.000000\n",
              "75%       1990.000000\n",
              "max       2018.000000\n",
              "Name: birth, dtype: float64"
            ]
          },
          "metadata": {},
          "execution_count": 26
        }
      ]
    },
    {
      "cell_type": "code",
      "source": [
        "welfare['birth'].isna().sum() # 결측치 확인하기"
      ],
      "metadata": {
        "colab": {
          "base_uri": "https://localhost:8080/"
        },
        "id": "06iyXDiiezhr",
        "outputId": "bd5ec2da-973f-4cff-e271-45b0471187cc"
      },
      "execution_count": 27,
      "outputs": [
        {
          "output_type": "execute_result",
          "data": {
            "text/plain": [
              "0"
            ]
          },
          "metadata": {},
          "execution_count": 27
        }
      ]
    },
    {
      "cell_type": "code",
      "source": [
        "# 나이 변수 추가하기\n",
        "welfare = welfare.assign(age = 2019 - welfare['birth'] + 1)\n",
        "# 요약 통계량\n",
        "welfare['age'].describe()"
      ],
      "metadata": {
        "colab": {
          "base_uri": "https://localhost:8080/"
        },
        "id": "R-jIoTegfJy7",
        "outputId": "74c9bcf7-7758-4030-fcdf-12a8b59bd38d"
      },
      "execution_count": 28,
      "outputs": [
        {
          "output_type": "execute_result",
          "data": {
            "text/plain": [
              "count    14418.000000\n",
              "mean        50.719795\n",
              "std         24.402250\n",
              "min          2.000000\n",
              "25%         30.000000\n",
              "50%         52.000000\n",
              "75%         72.000000\n",
              "max        113.000000\n",
              "Name: age, dtype: float64"
            ]
          },
          "metadata": {},
          "execution_count": 28
        }
      ]
    },
    {
      "cell_type": "code",
      "source": [
        "age_income = welfare.dropna(subset = ['income'])\\\n",
        "                    .groupby('age')\\\n",
        "                    .agg(mean_income = ('income', 'mean'))\n",
        "age_income.head() # 나이별 월급 평균표"
      ],
      "metadata": {
        "colab": {
          "base_uri": "https://localhost:8080/",
          "height": 238
        },
        "id": "AALMHNGsfwa7",
        "outputId": "96ecfe52-9c78-4717-ae3d-415f1ae0b8c7"
      },
      "execution_count": 29,
      "outputs": [
        {
          "output_type": "execute_result",
          "data": {
            "text/plain": [
              "      mean_income\n",
              "age              \n",
              "19.0   162.000000\n",
              "20.0   121.333333\n",
              "21.0   136.400000\n",
              "22.0   123.666667\n",
              "23.0   179.676471"
            ],
            "text/html": [
              "\n",
              "  <div id=\"df-64c3beca-9598-4af0-bd10-6ec7bee9446e\">\n",
              "    <div class=\"colab-df-container\">\n",
              "      <div>\n",
              "<style scoped>\n",
              "    .dataframe tbody tr th:only-of-type {\n",
              "        vertical-align: middle;\n",
              "    }\n",
              "\n",
              "    .dataframe tbody tr th {\n",
              "        vertical-align: top;\n",
              "    }\n",
              "\n",
              "    .dataframe thead th {\n",
              "        text-align: right;\n",
              "    }\n",
              "</style>\n",
              "<table border=\"1\" class=\"dataframe\">\n",
              "  <thead>\n",
              "    <tr style=\"text-align: right;\">\n",
              "      <th></th>\n",
              "      <th>mean_income</th>\n",
              "    </tr>\n",
              "    <tr>\n",
              "      <th>age</th>\n",
              "      <th></th>\n",
              "    </tr>\n",
              "  </thead>\n",
              "  <tbody>\n",
              "    <tr>\n",
              "      <th>19.0</th>\n",
              "      <td>162.000000</td>\n",
              "    </tr>\n",
              "    <tr>\n",
              "      <th>20.0</th>\n",
              "      <td>121.333333</td>\n",
              "    </tr>\n",
              "    <tr>\n",
              "      <th>21.0</th>\n",
              "      <td>136.400000</td>\n",
              "    </tr>\n",
              "    <tr>\n",
              "      <th>22.0</th>\n",
              "      <td>123.666667</td>\n",
              "    </tr>\n",
              "    <tr>\n",
              "      <th>23.0</th>\n",
              "      <td>179.676471</td>\n",
              "    </tr>\n",
              "  </tbody>\n",
              "</table>\n",
              "</div>\n",
              "      <button class=\"colab-df-convert\" onclick=\"convertToInteractive('df-64c3beca-9598-4af0-bd10-6ec7bee9446e')\"\n",
              "              title=\"Convert this dataframe to an interactive table.\"\n",
              "              style=\"display:none;\">\n",
              "        \n",
              "  <svg xmlns=\"http://www.w3.org/2000/svg\" height=\"24px\"viewBox=\"0 0 24 24\"\n",
              "       width=\"24px\">\n",
              "    <path d=\"M0 0h24v24H0V0z\" fill=\"none\"/>\n",
              "    <path d=\"M18.56 5.44l.94 2.06.94-2.06 2.06-.94-2.06-.94-.94-2.06-.94 2.06-2.06.94zm-11 1L8.5 8.5l.94-2.06 2.06-.94-2.06-.94L8.5 2.5l-.94 2.06-2.06.94zm10 10l.94 2.06.94-2.06 2.06-.94-2.06-.94-.94-2.06-.94 2.06-2.06.94z\"/><path d=\"M17.41 7.96l-1.37-1.37c-.4-.4-.92-.59-1.43-.59-.52 0-1.04.2-1.43.59L10.3 9.45l-7.72 7.72c-.78.78-.78 2.05 0 2.83L4 21.41c.39.39.9.59 1.41.59.51 0 1.02-.2 1.41-.59l7.78-7.78 2.81-2.81c.8-.78.8-2.07 0-2.86zM5.41 20L4 18.59l7.72-7.72 1.47 1.35L5.41 20z\"/>\n",
              "  </svg>\n",
              "      </button>\n",
              "      \n",
              "  <style>\n",
              "    .colab-df-container {\n",
              "      display:flex;\n",
              "      flex-wrap:wrap;\n",
              "      gap: 12px;\n",
              "    }\n",
              "\n",
              "    .colab-df-convert {\n",
              "      background-color: #E8F0FE;\n",
              "      border: none;\n",
              "      border-radius: 50%;\n",
              "      cursor: pointer;\n",
              "      display: none;\n",
              "      fill: #1967D2;\n",
              "      height: 32px;\n",
              "      padding: 0 0 0 0;\n",
              "      width: 32px;\n",
              "    }\n",
              "\n",
              "    .colab-df-convert:hover {\n",
              "      background-color: #E2EBFA;\n",
              "      box-shadow: 0px 1px 2px rgba(60, 64, 67, 0.3), 0px 1px 3px 1px rgba(60, 64, 67, 0.15);\n",
              "      fill: #174EA6;\n",
              "    }\n",
              "\n",
              "    [theme=dark] .colab-df-convert {\n",
              "      background-color: #3B4455;\n",
              "      fill: #D2E3FC;\n",
              "    }\n",
              "\n",
              "    [theme=dark] .colab-df-convert:hover {\n",
              "      background-color: #434B5C;\n",
              "      box-shadow: 0px 1px 3px 1px rgba(0, 0, 0, 0.15);\n",
              "      filter: drop-shadow(0px 1px 2px rgba(0, 0, 0, 0.3));\n",
              "      fill: #FFFFFF;\n",
              "    }\n",
              "  </style>\n",
              "\n",
              "      <script>\n",
              "        const buttonEl =\n",
              "          document.querySelector('#df-64c3beca-9598-4af0-bd10-6ec7bee9446e button.colab-df-convert');\n",
              "        buttonEl.style.display =\n",
              "          google.colab.kernel.accessAllowed ? 'block' : 'none';\n",
              "\n",
              "        async function convertToInteractive(key) {\n",
              "          const element = document.querySelector('#df-64c3beca-9598-4af0-bd10-6ec7bee9446e');\n",
              "          const dataTable =\n",
              "            await google.colab.kernel.invokeFunction('convertToInteractive',\n",
              "                                                     [key], {});\n",
              "          if (!dataTable) return;\n",
              "\n",
              "          const docLinkHtml = 'Like what you see? Visit the ' +\n",
              "            '<a target=\"_blank\" href=https://colab.research.google.com/notebooks/data_table.ipynb>data table notebook</a>'\n",
              "            + ' to learn more about interactive tables.';\n",
              "          element.innerHTML = '';\n",
              "          dataTable['output_type'] = 'display_data';\n",
              "          await google.colab.output.renderOutput(dataTable, element);\n",
              "          const docLink = document.createElement('div');\n",
              "          docLink.innerHTML = docLinkHtml;\n",
              "          element.appendChild(docLink);\n",
              "        }\n",
              "      </script>\n",
              "    </div>\n",
              "  </div>\n",
              "  "
            ]
          },
          "metadata": {},
          "execution_count": 29
        }
      ]
    },
    {
      "cell_type": "code",
      "source": [
        "sns.lineplot(data = age_income, x = 'age', y = 'mean_income') # 선 그래프"
      ],
      "metadata": {
        "colab": {
          "base_uri": "https://localhost:8080/",
          "height": 299
        },
        "id": "XwNz2Z7Pg7DC",
        "outputId": "2163320e-34e5-4a87-d435-a160d9732425"
      },
      "execution_count": 30,
      "outputs": [
        {
          "output_type": "execute_result",
          "data": {
            "text/plain": [
              "<matplotlib.axes._subplots.AxesSubplot at 0x7f8d744bc2d0>"
            ]
          },
          "metadata": {},
          "execution_count": 30
        },
        {
          "output_type": "display_data",
          "data": {
            "text/plain": [
              "<Figure size 432x288 with 1 Axes>"
            ],
            "image/png": "[encoded data removed]"
          },
          "metadata": {
            "needs_background": "light"
          }
        }
      ]
    },
    {
      "cell_type": "code",
      "source": [
        "# 만약 이상치가 데이터에 있다면, 다음과 같이 전처리를 수행한다."
      ],
      "metadata": {
        "id": "gVIE1byz9TXh"
      },
      "execution_count": 31,
      "outputs": []
    },
    {
      "cell_type": "code",
      "source": [
        "# 이상치 결측 처리하기(9: 모름/무응답)\n",
        "welfare['sex'] = np.where(welfare['sex'] == 9, np.nan, welfare['sex'])\n",
        "# 결측치 확인하기\n",
        "welfare['sex'].isna().sum()"
      ],
      "metadata": {
        "colab": {
          "base_uri": "https://localhost:8080/"
        },
        "id": "yNJv3xQNX62P",
        "outputId": "b97b1f00-3b89-4714-f68f-694920183717"
      },
      "execution_count": 32,
      "outputs": [
        {
          "output_type": "execute_result",
          "data": {
            "text/plain": [
              "0"
            ]
          },
          "metadata": {},
          "execution_count": 32
        }
      ]
    },
    {
      "cell_type": "code",
      "source": [
        "# 이상치 결측 처리하기(9999: 모름/무응답)\n",
        "welfare['income'] = np.where(welfare['income'] == 9999, np.nan, welfare['income'])\n",
        "# 결측치 확인하기\n",
        "welfare['income'].isna().sum()"
      ],
      "metadata": {
        "colab": {
          "base_uri": "https://localhost:8080/"
        },
        "id": "Y2DW_fxPcg4t",
        "outputId": "9e1df052-7810-4b6e-85ce-16f5d54516fa"
      },
      "execution_count": 33,
      "outputs": [
        {
          "output_type": "execute_result",
          "data": {
            "text/plain": [
              "9884"
            ]
          },
          "metadata": {},
          "execution_count": 33
        }
      ]
    },
    {
      "cell_type": "code",
      "source": [
        "# 이상치 결측 처리하기(9999: 모름/무응답)\n",
        "welfare['birth'] = np.where(welfare['birth'] == 9999, np.nan, welfare['birth'])\n",
        "# 결측치 확인하기\n",
        "welfare['birth'].isna().sum()"
      ],
      "metadata": {
        "colab": {
          "base_uri": "https://localhost:8080/"
        },
        "id": "S2IcSGR7e6J2",
        "outputId": "d3c53b64-252e-4ef6-f830-cc73bb2a13b2"
      },
      "execution_count": 34,
      "outputs": [
        {
          "output_type": "execute_result",
          "data": {
            "text/plain": [
              "0"
            ]
          },
          "metadata": {},
          "execution_count": 34
        }
      ]
    },
    {
      "cell_type": "code",
      "source": [],
      "metadata": {
        "id": "4x7byp7phIx3"
      },
      "execution_count": 34,
      "outputs": []
    }
  ]
}