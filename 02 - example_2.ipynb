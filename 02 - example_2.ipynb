{
  "nbformat": 4,
  "nbformat_minor": 0,
  "metadata": {
    "colab": {
      "provenance": [],
      "mount_file_id": "1lvgzjWMvfBpT5tFOrYfshua3NUPg16qr",
      "authorship_tag": "ABX9TyMEsvmcccyPwUEcWdSDR1vX",
      "include_colab_link": true
    },
    "kernelspec": {
      "name": "python3",
      "display_name": "Python 3"
    },
    "language_info": {
      "name": "python"
    }
  },
  "cells": [
    {
      "cell_type": "markdown",
      "metadata": {
        "id": "view-in-github",
        "colab_type": "text"
      },
      "source": [
        "<a href=\"https://colab.research.google.com/github/chaiminwoo0223/Data-Analysis/blob/main/ex3_2.ipynb\" target=\"_parent\"><img src=\"https://colab.research.google.com/assets/colab-badge.svg\" alt=\"Open In Colab\"/></a>"
      ]
    },
    {
      "cell_type": "code",
      "execution_count": null,
      "metadata": {
        "id": "ioTngN3_QowA"
      },
      "outputs": [],
      "source": [
        "import pandas as pd\n",
        "exam = pd.read_csv('/content/drive/MyDrive/수업/데이터 분석 입문/강의자료/Data/exam.csv')"
      ]
    },
    {
      "cell_type": "code",
      "source": [
        "exam # exam 데이터"
      ],
      "metadata": {
        "id": "nzA7z0alUOw_"
      },
      "execution_count": null,
      "outputs": []
    },
    {
      "cell_type": "code",
      "source": [
        "exam.head() # 앞에서부터 5행까지 출력"
      ],
      "metadata": {
        "id": "gOQBg2k9UuuQ"
      },
      "execution_count": null,
      "outputs": []
    },
    {
      "cell_type": "code",
      "source": [
        "exam.head(10) # 앞에서부터 10행까지 출력"
      ],
      "metadata": {
        "id": "oGlwyK1SVRBv"
      },
      "execution_count": null,
      "outputs": []
    },
    {
      "cell_type": "code",
      "source": [
        "exam.tail() # 뒤에서부터 5행까지 출력"
      ],
      "metadata": {
        "id": "shECvHrNVkxv"
      },
      "execution_count": null,
      "outputs": []
    },
    {
      "cell_type": "code",
      "source": [
        "exam.tail(10) # 뒤에서부터 10행까지 출력"
      ],
      "metadata": {
        "id": "hYCUmTwGV2pQ"
      },
      "execution_count": null,
      "outputs": []
    },
    {
      "cell_type": "code",
      "source": [
        "exam.tail(3) # 뒤에서부터 3행까지 출력"
      ],
      "metadata": {
        "id": "PNMiEoumV_9F"
      },
      "execution_count": null,
      "outputs": []
    },
    {
      "cell_type": "code",
      "source": [
        "exam.shape # 변수의 (행,열) 파악"
      ],
      "metadata": {
        "id": "hOTmcZ8gWGdl"
      },
      "execution_count": null,
      "outputs": []
    },
    {
      "cell_type": "code",
      "source": [
        "exam.info() # 변수 속성 파악"
      ],
      "metadata": {
        "id": "MSTRvT-wWP83"
      },
      "execution_count": null,
      "outputs": []
    },
    {
      "cell_type": "code",
      "source": [
        "exam.describe() # 요약 통계량"
      ],
      "metadata": {
        "id": "Plm6wK7CWbsW"
      },
      "execution_count": null,
      "outputs": []
    },
    {
      "cell_type": "code",
      "source": [
        "mpg = pd.read_csv('/content/drive/MyDrive/수업/데이터 분석 입문/강의자료/Data/mpg.csv')"
      ],
      "metadata": {
        "id": "c1CtImhtXKge"
      },
      "execution_count": null,
      "outputs": []
    },
    {
      "cell_type": "code",
      "source": [
        "mpg # mpg 데이터"
      ],
      "metadata": {
        "id": "O9i0Oj24X4Z3"
      },
      "execution_count": null,
      "outputs": []
    },
    {
      "cell_type": "code",
      "source": [
        "mpg.head() # mpg 앞부분 확인"
      ],
      "metadata": {
        "id": "6g_-WKQ2X73G"
      },
      "execution_count": null,
      "outputs": []
    },
    {
      "cell_type": "code",
      "source": [
        "mpg.tail() # mpg 뒷부분 확인"
      ],
      "metadata": {
        "id": "6WB0akoMYF6f"
      },
      "execution_count": null,
      "outputs": []
    },
    {
      "cell_type": "code",
      "source": [
        "mpg.shape # mpg (행,열) 파악"
      ],
      "metadata": {
        "id": "vKS3XA7qYlI-"
      },
      "execution_count": null,
      "outputs": []
    },
    {
      "cell_type": "code",
      "source": [
        "mpg.info() # mpg 속성 파악"
      ],
      "metadata": {
        "id": "z5uBDolwYv-u"
      },
      "execution_count": null,
      "outputs": []
    },
    {
      "cell_type": "code",
      "source": [
        "mpg.describe() # mpg 요약 통계량"
      ],
      "metadata": {
        "id": "P6EkPcG2Yy_m"
      },
      "execution_count": null,
      "outputs": []
    },
    {
      "cell_type": "code",
      "source": [
        "mpg.describe(include = 'all') # 문자 변수 요약 통계량 함께 출력"
      ],
      "metadata": {
        "id": "GmGkXAp3ZLxv"
      },
      "execution_count": null,
      "outputs": []
    },
    {
      "cell_type": "code",
      "source": [
        "df_raw = pd.DataFrame({'var1' : [1,2,1], # 데이터 프레임 만들기\n",
        "                       'var2' : [2,3,2]})\n",
        "df_raw "
      ],
      "metadata": {
        "id": "hvjHPsVjZrMf"
      },
      "execution_count": null,
      "outputs": []
    },
    {
      "cell_type": "code",
      "source": [
        "df_new = df_raw.copy() # 복사본 만들기\n",
        "df_new"
      ],
      "metadata": {
        "id": "SXdwMPHHc2HA"
      },
      "execution_count": null,
      "outputs": []
    },
    {
      "cell_type": "code",
      "source": [
        "df_new = df_new.rename(columns = {'var2' : 'v2'}) # var2를 v2로 수정\n",
        "df_new"
      ],
      "metadata": {
        "id": "ltR9tceAc9Rw"
      },
      "execution_count": null,
      "outputs": []
    },
    {
      "cell_type": "code",
      "source": [
        "df_new = df_new.rename(columns = {'var1' : 'v1'}) # var1을 v1로 수정\n",
        "df_new"
      ],
      "metadata": {
        "id": "N6DubCyCdoQp"
      },
      "execution_count": null,
      "outputs": []
    },
    {
      "cell_type": "code",
      "source": [
        "df_raw"
      ],
      "metadata": {
        "id": "Bl4VjP7Kd7tA"
      },
      "execution_count": null,
      "outputs": []
    },
    {
      "cell_type": "code",
      "source": [
        "df_new"
      ],
      "metadata": {
        "id": "FKtYQIZ9d-rY"
      },
      "execution_count": null,
      "outputs": []
    },
    {
      "cell_type": "code",
      "source": [
        "# 실습"
      ],
      "metadata": {
        "id": "p5umHlSAd_wI"
      },
      "execution_count": null,
      "outputs": []
    },
    {
      "cell_type": "code",
      "source": [
        "mpg_copy = mpg.copy() # 복사본 만들기\n",
        "mpg_copy = mpg_copy.rename(columns = {'cty' : 'city','hwy' : 'highway','fl' : 'fuel'}) # cty를 city로 수정, hwy를 highway로 수정, fl을 fuel로 수정"
      ],
      "metadata": {
        "id": "AB4BUm20eLP5"
      },
      "execution_count": null,
      "outputs": []
    },
    {
      "cell_type": "code",
      "source": [
        "mpg"
      ],
      "metadata": {
        "id": "Y-R7NanzeaVa"
      },
      "execution_count": null,
      "outputs": []
    },
    {
      "cell_type": "code",
      "source": [
        "mpg_copy"
      ],
      "metadata": {
        "id": "k3ngMXsbetTQ"
      },
      "execution_count": null,
      "outputs": []
    },
    {
      "cell_type": "code",
      "source": [],
      "metadata": {
        "id": "wGPQIHj-gQUR"
      },
      "execution_count": null,
      "outputs": []
    }
  ]
}
