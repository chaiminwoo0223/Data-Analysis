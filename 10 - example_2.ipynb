{
  "nbformat": 4,
  "nbformat_minor": 0,
  "metadata": {
    "colab": {
      "private_outputs": true,
      "provenance": [],
      "mount_file_id": "1kB97IPvL3SWbM_0KxY701EvgAW2Ctils",
      "authorship_tag": "ABX9TyN4UPkzyBam9wBnrec4R1rB",
      "include_colab_link": true
    },
    "kernelspec": {
      "name": "python3",
      "display_name": "Python 3"
    },
    "language_info": {
      "name": "python"
    }
  },
  "cells": [
    {
      "cell_type": "markdown",
      "metadata": {
        "id": "view-in-github",
        "colab_type": "text"
      },
      "source": [
        "<a href=\"https://colab.research.google.com/github/chaiminwoo0223/Data-Analysis/blob/main/10%20-%20example_2.ipynb\" target=\"_parent\"><img src=\"https://colab.research.google.com/assets/colab-badge.svg\" alt=\"Open In Colab\"/></a>"
      ]
    },
    {
      "cell_type": "code",
      "execution_count": null,
      "metadata": {
        "id": "jaas41LmO9LN"
      },
      "outputs": [],
      "source": [
        "!pip install folium"
      ]
    },
    {
      "cell_type": "code",
      "source": [
        "import json\n",
        "geo_seoul = json.load(open('/content/drive/MyDrive/수업/데이터 분석 입문/강의자료/Data/EMD_Seoul.geojson'), encoding = 'UTF-8')"
      ],
      "metadata": {
        "id": "SsyRRBtFPAtZ"
      },
      "execution_count": null,
      "outputs": []
    },
    {
      "cell_type": "code",
      "source": [
        "# 행정 구역 코드 출력\n",
        "geo_seoul['features'][0]['properties']"
      ],
      "metadata": {
        "id": "etmVhgpVPCeo"
      },
      "execution_count": null,
      "outputs": []
    },
    {
      "cell_type": "code",
      "source": [
        "# 위도, 경도 좌표 출력\n",
        "geo_seoul['features'][0]['geometry']['coordinates'][0][0][:10]"
      ],
      "metadata": {
        "id": "l7b7pN2CPGJa"
      },
      "execution_count": null,
      "outputs": []
    },
    {
      "cell_type": "code",
      "source": [
        "import pandas as pd\n",
        "foreigner = pd.read_csv('/content/drive/MyDrive/수업/데이터 분석 입문/강의자료/Data/Foreigner_EMD_Seoul.csv')\n",
        "foreigner.head()"
      ],
      "metadata": {
        "id": "UFShWWPHPH4B"
      },
      "execution_count": null,
      "outputs": []
    },
    {
      "cell_type": "code",
      "source": [
        "foreigner.info()"
      ],
      "metadata": {
        "id": "NqCOjMuzPKQB"
      },
      "execution_count": null,
      "outputs": []
    },
    {
      "cell_type": "code",
      "source": [
        "foreigner['code'] = foreigner['code'].astype(str)"
      ],
      "metadata": {
        "id": "T1RBk15NPMYB"
      },
      "execution_count": null,
      "outputs": []
    },
    {
      "cell_type": "code",
      "source": [
        "bins = list(foreigner[\"pop\"].quantile([0, 0.2, 0.4, 0.5, 0.6, 0.7, 0.8, 0.9, 1]))\n",
        "bins"
      ],
      "metadata": {
        "id": "nvXH_1hRPOCq"
      },
      "execution_count": null,
      "outputs": []
    },
    {
      "cell_type": "code",
      "source": [
        "import folium\n",
        "# 배경 지도 만들기\n",
        "map_seoul = folium.Map(location = [37.56, 127], zoom_start = 12, tiles = 'cartodbpositron')\n",
        "# 단계구분도 만들기\n",
        "folium.Choropleth(\n",
        "    geo_data = geo_seoul, data = foreigner, columns = ('code', 'pop'), key_on = 'feature.properties.ADM_DR_CD',\n",
        "    fill_color = 'Blues', nan_fill_color = 'White', fill_opacity = 1, line_opacity = 0.5, bins = bins).add_to(map_seoul)\n",
        "map_seoul"
      ],
      "metadata": {
        "id": "uPScjPenPPuS"
      },
      "execution_count": null,
      "outputs": []
    },
    {
      "cell_type": "code",
      "source": [
        "geo_seoul_sig = json.load(open('/content/drive/MyDrive/수업/데이터 분석 입문/강의자료/Data/SIG_Seoul.geojson'), encoding = 'UTF-8')"
      ],
      "metadata": {
        "id": "6vLgT6FaPRPh"
      },
      "execution_count": null,
      "outputs": []
    },
    {
      "cell_type": "code",
      "source": [
        "# 서울 구 라인 추가하기\n",
        "folium.Choropleth(\n",
        "    geo_data = geo_seoul_sig, fill_opacity = 0, line_opacity = 4).add_to(map_seoul)\n",
        "map_seoul"
      ],
      "metadata": {
        "id": "_gBFP5g_PUpx"
      },
      "execution_count": null,
      "outputs": []
    },
    {
      "cell_type": "code",
      "source": [
        "# HTML 파일로 저장하기\n",
        "map_seoul.save('map_seoul.html')"
      ],
      "metadata": {
        "id": "5Ea79SIcPW4J"
      },
      "execution_count": null,
      "outputs": []
    },
    {
      "cell_type": "code",
      "source": [],
      "metadata": {
        "id": "ahQWt82CPcMT"
      },
      "execution_count": null,
      "outputs": []
    }
  ]
}