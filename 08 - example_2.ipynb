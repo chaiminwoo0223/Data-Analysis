{
  "nbformat": 4,
  "nbformat_minor": 0,
  "metadata": {
    "colab": {
      "private_outputs": true,
      "provenance": [],
      "mount_file_id": "1mAl7G46p6mCl5mG9GlOd_kGdPxq98LpI",
      "authorship_tag": "ABX9TyMp0KusNdEGKPznH9sytVYi",
      "include_colab_link": true
    },
    "kernelspec": {
      "name": "python3",
      "display_name": "Python 3"
    },
    "language_info": {
      "name": "python"
    }
  },
  "cells": [
    {
      "cell_type": "markdown",
      "metadata": {
        "id": "view-in-github",
        "colab_type": "text"
      },
      "source": [
        "<a href=\"https://colab.research.google.com/github/chaiminwoo0223/Data-Analysis/blob/main/08%20-%20example_2.ipynb\" target=\"_parent\"><img src=\"https://colab.research.google.com/assets/colab-badge.svg\" alt=\"Open In Colab\"/></a>"
      ]
    },
    {
      "cell_type": "code",
      "execution_count": null,
      "metadata": {
        "id": "9QGTlGcl3_CK"
      },
      "outputs": [],
      "source": [
        "!pip install pyreadstat"
      ]
    },
    {
      "cell_type": "code",
      "source": [
        "import pandas as pd\n",
        "import numpy as np\n",
        "import seaborn as sns"
      ],
      "metadata": {
        "id": "-vxpohit4KQ_"
      },
      "execution_count": null,
      "outputs": []
    },
    {
      "cell_type": "code",
      "source": [
        "# 데이터 불러오기\n",
        "raw_welfare = pd.read_spss('/content/drive/MyDrive/수업/데이터 분석 입문/강의자료/Data/Koweps_hpwc14_2019_beta2.sav')\n",
        "# 복사본 만들기\n",
        "welfare = raw_welfare.copy()"
      ],
      "metadata": {
        "id": "DvBDEw034MDv"
      },
      "execution_count": null,
      "outputs": []
    },
    {
      "cell_type": "code",
      "source": [
        "welfare"
      ],
      "metadata": {
        "id": "fZLd_eXi4OCW"
      },
      "execution_count": null,
      "outputs": []
    },
    {
      "cell_type": "code",
      "source": [
        "welfare = welfare.rename(\n",
        "    columns = {'h14_g3' : 'sex',\n",
        "               'h14_g4' : 'birth',\n",
        "               'h14_g10' : 'marriage_type',\n",
        "               'h14_g11' : 'religion',\n",
        "               'p1402_8aq1' : 'income',\n",
        "               'h14_eco9' : 'code_job',\n",
        "               'h14_reg7' : 'code_region'})"
      ],
      "metadata": {
        "id": "wKmor0rE4gKX"
      },
      "execution_count": null,
      "outputs": []
    },
    {
      "cell_type": "code",
      "source": [
        "# 성별 항목 이름 부여하기\n",
        "welfare['sex'] = np.where(welfare['sex'] == 1, 'male', 'female')\n",
        "# 나이 변수 추가하기\n",
        "welfare = welfare.assign(age = 2019 - welfare['birth'] + 1)"
      ],
      "metadata": {
        "id": "zYZkGlpP4Y-P"
      },
      "execution_count": null,
      "outputs": []
    },
    {
      "cell_type": "code",
      "source": [
        "# 나이 변수 살펴보기\n",
        "welfare['age'].head()"
      ],
      "metadata": {
        "id": "GphPDEdw4vHB"
      },
      "execution_count": null,
      "outputs": []
    },
    {
      "cell_type": "code",
      "source": [
        "# 연령대 변수 만들기\n",
        "welfare = welfare.assign(ageg = np.where(welfare['age'] < 30, 'young',\n",
        "                                         np.where(welfare['age'] <= 59, 'middle', 'old')))\n",
        "# 빈도 구하기\n",
        "welfare['ageg'].value_counts()"
      ],
      "metadata": {
        "id": "KiWnG2EC44Jm"
      },
      "execution_count": null,
      "outputs": []
    },
    {
      "cell_type": "code",
      "source": [
        "sns.countplot(data = welfare, x = 'ageg')"
      ],
      "metadata": {
        "id": "YoshwUeE5hH4"
      },
      "execution_count": null,
      "outputs": []
    },
    {
      "cell_type": "code",
      "source": [
        "ageg_income = welfare.dropna(subset = ['income'])\\\n",
        "                     .groupby('ageg', as_index = False)\\\n",
        "                     .agg(mean_income = ('income', 'mean'))\n",
        "ageg_income # 연령대별 월급 평균표"
      ],
      "metadata": {
        "id": "S7cE29v-5sxX"
      },
      "execution_count": null,
      "outputs": []
    },
    {
      "cell_type": "code",
      "source": [
        "sns.barplot(data = ageg_income, x = 'ageg', y = 'mean_income')"
      ],
      "metadata": {
        "id": "x7NGZuaO6ZxI"
      },
      "execution_count": null,
      "outputs": []
    },
    {
      "cell_type": "code",
      "source": [
        "# 빈도 막대 그래프 정렬하기\n",
        "sns.barplot(data = ageg_income, x = 'ageg', y = 'mean_income', order = ['young', 'middle', 'old'])"
      ],
      "metadata": {
        "id": "BP2hBARN60YA"
      },
      "execution_count": null,
      "outputs": []
    },
    {
      "cell_type": "code",
      "source": [
        "sex_income = welfare.dropna(subset = ['income'])\\\n",
        "                    .groupby(['ageg', 'sex'], as_index = False)\\\n",
        "                    .agg(mean_income = ('income','mean'))\n",
        "sex_income # 연령대 및 성별 평균표"
      ],
      "metadata": {
        "id": "QLUMC9-Q6-Ed"
      },
      "execution_count": null,
      "outputs": []
    },
    {
      "cell_type": "code",
      "source": [
        "sns.barplot(data = sex_income, x = 'ageg', y = 'mean_income', hue = 'sex', order = ['young', 'middle', 'old'])"
      ],
      "metadata": {
        "id": "qxNaqy0G7r9K"
      },
      "execution_count": null,
      "outputs": []
    },
    {
      "cell_type": "code",
      "source": [
        "sex_age = welfare.dropna(subset = ['income'])\\\n",
        "                 .groupby(['age', 'sex'], as_index = False)\\\n",
        "                 .agg(mean_income = ('income','mean'))\n",
        "sex_age.head() # 나이 및 성별 월급 평균표"
      ],
      "metadata": {
        "id": "MAKcwCuX8hnl"
      },
      "execution_count": null,
      "outputs": []
    },
    {
      "cell_type": "code",
      "source": [
        "sns.lineplot(data = sex_age, x = 'age', y = 'mean_income', hue = 'sex')"
      ],
      "metadata": {
        "id": "cVEDGC7k9EZ_"
      },
      "execution_count": null,
      "outputs": []
    },
    {
      "cell_type": "code",
      "source": [],
      "metadata": {
        "id": "WokNAYRF9WUt"
      },
      "execution_count": null,
      "outputs": []
    }
  ]
}