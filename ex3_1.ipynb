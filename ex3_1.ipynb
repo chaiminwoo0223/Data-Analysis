{
  "nbformat": 4,
  "nbformat_minor": 0,
  "metadata": {
    "colab": {
      "private_outputs": true,
      "provenance": [],
      "mount_file_id": "19x6nw6VDlwszdRjyfNc_xAppoChLo0ko",
      "authorship_tag": "ABX9TyMsCPqyxOo4HN81FDYgHWpB",
      "include_colab_link": true
    },
    "kernelspec": {
      "name": "python3",
      "display_name": "Python 3"
    },
    "language_info": {
      "name": "python"
    }
  },
  "cells": [
    {
      "cell_type": "markdown",
      "metadata": {
        "id": "view-in-github",
        "colab_type": "text"
      },
      "source": [
        "<a href=\"https://colab.research.google.com/github/chaiminwoo0223/Data-Analysis/blob/main/ex3_1.ipynb\" target=\"_parent\"><img src=\"https://colab.research.google.com/assets/colab-badge.svg\" alt=\"Open In Colab\"/></a>"
      ]
    },
    {
      "cell_type": "code",
      "execution_count": null,
      "metadata": {
        "id": "1ZapPq_zVcib"
      },
      "outputs": [],
      "source": [
        "import pandas as pd"
      ]
    },
    {
      "cell_type": "code",
      "source": [
        "df_exam = pd.read_excel('/content/drive/MyDrive/수업/데이터 분석 입문/강의자료/Data/excel_exam.xlsx') #엑셀 불러오기"
      ],
      "metadata": {
        "id": "uuENHwelYeKz"
      },
      "execution_count": null,
      "outputs": []
    },
    {
      "cell_type": "code",
      "source": [
        "df_exam"
      ],
      "metadata": {
        "id": "Orql_TjDZgO-"
      },
      "execution_count": null,
      "outputs": []
    },
    {
      "cell_type": "code",
      "source": [
        "sum(df_exam['math']) / 20 #평균"
      ],
      "metadata": {
        "id": "T29Z3bKxZjQW"
      },
      "execution_count": null,
      "outputs": []
    },
    {
      "cell_type": "code",
      "source": [
        "sum(df_exam['math']) / len(df_exam['math']) #len 함수를 이용한 평균"
      ],
      "metadata": {
        "id": "fwfpYIxSZ8Yg"
      },
      "execution_count": null,
      "outputs": []
    },
    {
      "cell_type": "code",
      "source": [
        "sum(df_exam['math']) / len(df_exam)"
      ],
      "metadata": {
        "id": "YKL4Zxm9aRey"
      },
      "execution_count": null,
      "outputs": []
    },
    {
      "cell_type": "code",
      "source": [
        "df_exam_novar = pd.read_excel('/content/drive/MyDrive/수업/데이터 분석 입문/강의자료/Data/excel_exam_novar.xlsx') #엑셀 불러오기"
      ],
      "metadata": {
        "id": "b7WY_9MraYwH"
      },
      "execution_count": null,
      "outputs": []
    },
    {
      "cell_type": "code",
      "source": [
        "df_exam_novar"
      ],
      "metadata": {
        "id": "g2IVR6lUbIX1"
      },
      "execution_count": null,
      "outputs": []
    },
    {
      "cell_type": "code",
      "source": [
        "df_exam_novar = pd.read_excel('/content/drive/MyDrive/수업/데이터 분석 입문/강의자료/Data/excel_exam_novar.xlsx',header=None) #변수 이름 없음"
      ],
      "metadata": {
        "id": "ncVnwl1XbUnN"
      },
      "execution_count": null,
      "outputs": []
    },
    {
      "cell_type": "code",
      "source": [
        "df_exam_novar"
      ],
      "metadata": {
        "id": "VwPS5NdGbzRC"
      },
      "execution_count": null,
      "outputs": []
    },
    {
      "cell_type": "code",
      "source": [
        "df_csv_exam = pd.read_csv('/content/drive/MyDrive/수업/데이터 분석 입문/강의자료/Data/exam.csv') #CSV 불러오기"
      ],
      "metadata": {
        "id": "JI1EYvkWb2K4"
      },
      "execution_count": null,
      "outputs": []
    },
    {
      "cell_type": "code",
      "source": [
        "df_csv_exam"
      ],
      "metadata": {
        "id": "pfCUsnjLd4V5"
      },
      "execution_count": null,
      "outputs": []
    },
    {
      "cell_type": "code",
      "source": [
        "df_midterm = pd.DataFrame({'eng':[90,80,60,70],\n",
        "                          'math':[50,60,100,20],\n",
        "                          'nclass':[1,1,2,2]})\n",
        "df_midterm #데이터 프레임 생성"
      ],
      "metadata": {
        "id": "BKmevDcmd8Dj"
      },
      "execution_count": null,
      "outputs": []
    },
    {
      "cell_type": "code",
      "source": [
        "df_midterm.to_csv(\"output.csv\") #CSV 내보내기"
      ],
      "metadata": {
        "id": "3iJLoavdfBcw"
      },
      "execution_count": null,
      "outputs": []
    },
    {
      "cell_type": "code",
      "source": [
        "df_midterm.to_csv(\"output.csv\",index=False) #CSV 내보내기(인덱스 없음)"
      ],
      "metadata": {
        "id": "Cp1niLPRfqaB"
      },
      "execution_count": null,
      "outputs": []
    },
    {
      "cell_type": "code",
      "source": [],
      "metadata": {
        "id": "vk7xRCYKgUb5"
      },
      "execution_count": null,
      "outputs": []
    }
  ]
}