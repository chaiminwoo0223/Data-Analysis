{
  "nbformat": 4,
  "nbformat_minor": 0,
  "metadata": {
    "colab": {
      "private_outputs": true,
      "provenance": [],
      "mount_file_id": "1vSDyFrf1kmbypFAvXRYX9Cz1S3XHdEok",
      "authorship_tag": "ABX9TyOcmXCmNoE48WvCVjSOoRAl",
      "include_colab_link": true
    },
    "kernelspec": {
      "name": "python3",
      "display_name": "Python 3"
    },
    "language_info": {
      "name": "python"
    }
  },
  "cells": [
    {
      "cell_type": "markdown",
      "metadata": {
        "id": "view-in-github",
        "colab_type": "text"
      },
      "source": [
        "<a href=\"https://colab.research.google.com/github/chaiminwoo0223/Data-Analysis/blob/main/09%20-%20example_1.ipynb\" target=\"_parent\"><img src=\"https://colab.research.google.com/assets/colab-badge.svg\" alt=\"Open In Colab\"/></a>"
      ]
    },
    {
      "cell_type": "code",
      "execution_count": null,
      "metadata": {
        "id": "Lz5vvbIDVx69"
      },
      "outputs": [],
      "source": [
        "!pip install jpype1"
      ]
    },
    {
      "cell_type": "code",
      "source": [
        "!pip install konlpy"
      ],
      "metadata": {
        "id": "RZK_BT1TV58d"
      },
      "execution_count": null,
      "outputs": []
    },
    {
      "cell_type": "code",
      "source": [
        "moon = open('/content/drive/MyDrive/수업/데이터 분석 입문/강의자료/Data/speech_moon.txt', encoding = 'UTF-8').read()\n",
        "moon"
      ],
      "metadata": {
        "id": "tIVEXE3_WA2M"
      },
      "execution_count": null,
      "outputs": []
    },
    {
      "cell_type": "code",
      "source": [
        "# 불필요한 문자 제거하기\n",
        "import re\n",
        "moon = re.sub('[^가-힣]', ' ', moon)\n",
        "moon"
      ],
      "metadata": {
        "id": "Vsm8ZGe9WYVe"
      },
      "execution_count": null,
      "outputs": []
    },
    {
      "cell_type": "code",
      "source": [
        "import konlpy\n",
        "hannanum = konlpy.tag.Hannanum()\n",
        "# 명사 추출하기\n",
        "hannanum.nouns(\"대한민국의 영토는 한반도와 그 부속도시로 한다\")"
      ],
      "metadata": {
        "id": "uW7jX1fiWxF9"
      },
      "execution_count": null,
      "outputs": []
    },
    {
      "cell_type": "code",
      "source": [
        "# 연설문에서 문자 추출하기\n",
        "nouns = hannanum.nouns(moon)\n",
        "nouns"
      ],
      "metadata": {
        "id": "hNFGk2T3XPuT"
      },
      "execution_count": null,
      "outputs": []
    },
    {
      "cell_type": "code",
      "source": [
        "# 데이터 프레임으로 변환하기\n",
        "import pandas as pd\n",
        "df_word = pd.DataFrame({'word' : nouns})\n",
        "df_word"
      ],
      "metadata": {
        "id": "ZWtergwHXYDL"
      },
      "execution_count": null,
      "outputs": []
    },
    {
      "cell_type": "code",
      "source": [
        "# 글자 수 추가히기\n",
        "df_word['count'] = df_word['word'].str.len()\n",
        "df_word"
      ],
      "metadata": {
        "id": "4UERZa0ZYBxU"
      },
      "execution_count": null,
      "outputs": []
    },
    {
      "cell_type": "code",
      "source": [
        "# 두 글자 이상 단어만 남기기\n",
        "df_word = df_word.query('count >= 2')\n",
        "df_word.sort_values('count')"
      ],
      "metadata": {
        "id": "75nV5mtdYUQ8"
      },
      "execution_count": null,
      "outputs": []
    },
    {
      "cell_type": "code",
      "source": [
        "# 단어 빈도 구하기\n",
        "df_word = df_word.groupby('word', as_index = False)\\\n",
        "                 .agg(n = ('word', 'count'))\\\n",
        "                 .sort_values('n', ascending = False)\n",
        "df_word"
      ],
      "metadata": {
        "id": "C1tM1q6JYumk"
      },
      "execution_count": null,
      "outputs": []
    },
    {
      "cell_type": "code",
      "source": [
        "# 단어 빈도 상위 20개 추출하기\n",
        "top20 = df_word.head(20)\n",
        "top20"
      ],
      "metadata": {
        "id": "6m_YCfpNaFPM"
      },
      "execution_count": null,
      "outputs": []
    },
    {
      "cell_type": "code",
      "source": [
        "import seaborn as sns\n",
        "import matplotlib.pyplot as plt\n",
        "# 한글폰트 설정하기\n",
        "!sudo apt-get install -y fonts-nanum\n",
        "!sudo fc-cache -fv\n",
        "!rm ~/.cache/matplotlib -rf"
      ],
      "metadata": {
        "id": "QclprhXpaqti"
      },
      "execution_count": null,
      "outputs": []
    },
    {
      "cell_type": "code",
      "source": [
        "plt.rcParams.update({'font.family'    : 'NanumBarunGothic',\n",
        "                     'figure.dpi'     : '120',\n",
        "                     'figure.figsize' : [6.5, 6]})\n",
        "# 막대 그래프 만들기\n",
        "sns.barplot(data = top20, y = 'word', x = 'n')"
      ],
      "metadata": {
        "id": "4sRLkJX3hr8o"
      },
      "execution_count": null,
      "outputs": []
    },
    {
      "cell_type": "code",
      "source": [
        "!pip install wordcloud"
      ],
      "metadata": {
        "id": "6JttaXgEifo_"
      },
      "execution_count": null,
      "outputs": []
    },
    {
      "cell_type": "code",
      "source": [
        "font = '/content/drive/MyDrive/수업/데이터 분석 입문/강의자료/Data/DoHyeon-Regular.ttf'"
      ],
      "metadata": {
        "id": "WKcNi4W6jO3g"
      },
      "execution_count": null,
      "outputs": []
    },
    {
      "cell_type": "code",
      "source": [
        "dic_word = df_word.set_index('word').to_dict()['n']\n",
        "dic_word"
      ],
      "metadata": {
        "id": "rcb1QRHbjdMF"
      },
      "execution_count": null,
      "outputs": []
    },
    {
      "cell_type": "code",
      "source": [
        "# wc 만들기\n",
        "from wordcloud import WordCloud\n",
        "wc = WordCloud(random_state = 1234, font_path = font, width = 400, height = 400, background_color = 'white')"
      ],
      "metadata": {
        "id": "7IFYqoeOj70v"
      },
      "execution_count": null,
      "outputs": []
    },
    {
      "cell_type": "code",
      "source": [
        "# 워드 클라우드 만들기\n",
        "img_wordcloud = wc.generate_from_frequencies(dic_word)\n",
        "# 워드 클라우드 출력하기\n",
        "plt.figure(figsize = (10,10))\n",
        "plt.axis('off')\n",
        "plt.imshow(img_wordcloud)"
      ],
      "metadata": {
        "id": "8pqHVLG-kdq2"
      },
      "execution_count": null,
      "outputs": []
    },
    {
      "cell_type": "code",
      "source": [
        "import PIL\n",
        "icon = PIL.Image.open('/content/drive/MyDrive/수업/데이터 분석 입문/강의자료/Data/cloud.png')"
      ],
      "metadata": {
        "id": "jqphUA18lY3F"
      },
      "execution_count": null,
      "outputs": []
    },
    {
      "cell_type": "code",
      "source": [
        "import numpy as np\n",
        "img = PIL.Image.new('RGB', icon.size, (255, 255, 255))\n",
        "img.paste(icon, icon)\n",
        "img = np.array(img)"
      ],
      "metadata": {
        "id": "aAS7b2qQmY10"
      },
      "execution_count": null,
      "outputs": []
    },
    {
      "cell_type": "code",
      "source": [
        "# wc 만들기\n",
        "from wordcloud import WordCloud\n",
        "wc = WordCloud(random_state = 1234, font_path = font, width = 400, height = 400, background_color = 'white', mask = img)"
      ],
      "metadata": {
        "id": "1WE1RQPenD2b"
      },
      "execution_count": null,
      "outputs": []
    },
    {
      "cell_type": "code",
      "source": [
        "# 워드 클라우드 만들기\n",
        "img_wordcloud = wc.generate_from_frequencies(dic_word)\n",
        "# 워드 클라우드 출력하기\n",
        "plt.figure(figsize = (10,10))\n",
        "plt.axis('off')\n",
        "plt.imshow(img_wordcloud)"
      ],
      "metadata": {
        "id": "oMCGD-dSnL_r"
      },
      "execution_count": null,
      "outputs": []
    },
    {
      "cell_type": "code",
      "source": [
        "# wc 만들기\n",
        "from wordcloud import WordCloud\n",
        "wc = WordCloud(random_state = 1234, font_path = font, width = 400, height = 400, background_color = 'white', mask = img, colormap = 'inferno')"
      ],
      "metadata": {
        "id": "ecuoSrNZnTbE"
      },
      "execution_count": null,
      "outputs": []
    },
    {
      "cell_type": "code",
      "source": [
        "# 워드 클라우드 만들기\n",
        "img_wordcloud = wc.generate_from_frequencies(dic_word)\n",
        "# 워드 클라우드 출력하기\n",
        "plt.figure(figsize = (10,10))\n",
        "plt.axis('off')\n",
        "plt.imshow(img_wordcloud)"
      ],
      "metadata": {
        "id": "_DyVCLKinefd"
      },
      "execution_count": null,
      "outputs": []
    },
    {
      "cell_type": "code",
      "source": [],
      "metadata": {
        "id": "Y9oNrL9znhn0"
      },
      "execution_count": null,
      "outputs": []
    }
  ]
}