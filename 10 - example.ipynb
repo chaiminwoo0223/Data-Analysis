{
  "nbformat": 4,
  "nbformat_minor": 0,
  "metadata": {
    "colab": {
      "private_outputs": true,
      "provenance": [],
      "mount_file_id": "1fJPu5FgstdECEBzCusnLGCuyYR_Szv8E",
      "authorship_tag": "ABX9TyMcHW3rlpNY22fN1Mb9hcyM",
      "include_colab_link": true
    },
    "kernelspec": {
      "name": "python3",
      "display_name": "Python 3"
    },
    "language_info": {
      "name": "python"
    }
  },
  "cells": [
    {
      "cell_type": "markdown",
      "metadata": {
        "id": "view-in-github",
        "colab_type": "text"
      },
      "source": [
        "<a href=\"https://colab.research.google.com/github/chaiminwoo0223/Data-Analysis/blob/main/10%20-%20example.ipynb\" target=\"_parent\"><img src=\"https://colab.research.google.com/assets/colab-badge.svg\" alt=\"Open In Colab\"/></a>"
      ]
    },
    {
      "cell_type": "code",
      "execution_count": null,
      "metadata": {
        "id": "5TT_vMb2OgOc"
      },
      "outputs": [],
      "source": [
        "import json\n",
        "geo = json.load(open('/content/drive/MyDrive/수업/데이터 분석 입문/강의자료/Data/SIG.geojson', encoding = 'UTF-8'))"
      ]
    },
    {
      "cell_type": "code",
      "source": [
        "# 행정 구역 코드 출력\n",
        "geo['features'][0]['properties']"
      ],
      "metadata": {
        "id": "F5zj_iy6O7kU"
      },
      "execution_count": null,
      "outputs": []
    },
    {
      "cell_type": "code",
      "source": [
        "# 위도, 경도 좌표 출력\n",
        "geo['features'][0]['geometry']['coordinates'][0][0][:10]"
      ],
      "metadata": {
        "id": "fh6m0ZuxO9Wk"
      },
      "execution_count": null,
      "outputs": []
    },
    {
      "cell_type": "code",
      "source": [
        "import pandas as pd\n",
        "df_pop = pd.read_csv('/content/drive/MyDrive/수업/데이터 분석 입문/강의자료/Data/Population_SIG.csv')\n",
        "df_pop.head()"
      ],
      "metadata": {
        "id": "BbhgqhTPO-L9"
      },
      "execution_count": null,
      "outputs": []
    },
    {
      "cell_type": "code",
      "source": [
        "df_pop.info()"
      ],
      "metadata": {
        "id": "yy0qconmPD8s"
      },
      "execution_count": null,
      "outputs": []
    },
    {
      "cell_type": "code",
      "source": [
        "# 행정 구역 코드가 문자 타입으로 되어 있어야 지도를 만드는데 활용할 수 있음\n",
        "df_pop['code'] = df_pop['code'].astype(str)"
      ],
      "metadata": {
        "id": "wSUO21YzPJrs"
      },
      "execution_count": null,
      "outputs": []
    },
    {
      "cell_type": "code",
      "source": [
        "# 단계 구분도 만들기"
      ],
      "metadata": {
        "id": "9OOTEEIcPKJc"
      },
      "execution_count": null,
      "outputs": []
    },
    {
      "cell_type": "code",
      "source": [
        "!pip install folium"
      ],
      "metadata": {
        "id": "Olqu2dS0PMcc"
      },
      "execution_count": null,
      "outputs": []
    },
    {
      "cell_type": "code",
      "source": [
        "import folium\n",
        "folium.Map(location = [35.95, 127.7], zoom_start = 8)"
      ],
      "metadata": {
        "id": "0dsjhDrpPSo1"
      },
      "execution_count": null,
      "outputs": []
    },
    {
      "cell_type": "code",
      "source": [
        "map_sig = folium.Map(location = [35.95, 127.7], zoom_start = 8, tiles = 'cartodbpositron')\n",
        "map_sig"
      ],
      "metadata": {
        "id": "8UoLPKBoPUVd"
      },
      "execution_count": null,
      "outputs": []
    },
    {
      "cell_type": "code",
      "source": [
        "folium.Choropleth(geo_data = geo, data = df_pop, columns = ('code', 'pop'), key_on = 'feature.properties.SIG_CD').add_to(map_sig)\n",
        "map_sig.save('map.html')"
      ],
      "metadata": {
        "id": "QwuWsc-fPWKE"
      },
      "execution_count": null,
      "outputs": []
    },
    {
      "cell_type": "code",
      "source": [
        "bins = list(df_pop[\"pop\"].quantile([0, 0.2, 0.4, 0.6, 0.8, 1]))\n",
        "bins"
      ],
      "metadata": {
        "id": "8I7JYCftPX99"
      },
      "execution_count": null,
      "outputs": []
    },
    {
      "cell_type": "code",
      "source": [
        "map_sig = folium.Map(location = [35.95, 127.7], zoom_start = 8, tiles = 'cartodbpositron')\n",
        "map_sig"
      ],
      "metadata": {
        "id": "v-0oFmucPZl9"
      },
      "execution_count": null,
      "outputs": []
    },
    {
      "cell_type": "code",
      "source": [
        "folium.Choropleth(geo_data = geo, data = df_pop, columns = ('code', 'pop'), key_on = 'feature.properties.SIG_CD',\n",
        "                  fill_color = 'YlGnBu', fill_opacity = 1, line_opacity = 0.5, bins = bins).add_to(map_sig)\n",
        "map_sig.save('color_map.html')"
      ],
      "metadata": {
        "id": "YyQSOCOGPbZs"
      },
      "execution_count": null,
      "outputs": []
    },
    {
      "cell_type": "code",
      "source": [
        "geo_seoul = json.load(open('/content/drive/MyDrive/수업/데이터 분석 입문/강의자료/Data/EMD_Seoul.geojson'), encoding = 'UTF-8')"
      ],
      "metadata": {
        "id": "UnUuQ6G1Pkoc"
      },
      "execution_count": null,
      "outputs": []
    },
    {
      "cell_type": "code",
      "source": [
        "# 행정 구역 코드 출력\n",
        "geo_seoul['features'][0]['properties']"
      ],
      "metadata": {
        "id": "4ZqwK6WEPwVV"
      },
      "execution_count": null,
      "outputs": []
    },
    {
      "cell_type": "code",
      "source": [
        "# 위도, 경도 좌표 출력\n",
        "geo_seoul['features'][0]['geometry']['coordinates'][0][0][:10]"
      ],
      "metadata": {
        "id": "ohSBw4V_Pz0k"
      },
      "execution_count": null,
      "outputs": []
    },
    {
      "cell_type": "code",
      "source": [
        "foreigner = pd.read_csv('/content/drive/MyDrive/수업/데이터 분석 입문/강의자료/Data/Foreigner_EMD_Seoul.csv')\n",
        "foreigner.head()"
      ],
      "metadata": {
        "id": "G-ZITgcOP_5n"
      },
      "execution_count": null,
      "outputs": []
    },
    {
      "cell_type": "code",
      "source": [
        "foreigner.info()"
      ],
      "metadata": {
        "id": "L-Yh4DLlQAPl"
      },
      "execution_count": null,
      "outputs": []
    },
    {
      "cell_type": "code",
      "source": [
        "foreigner['code'] = foreigner['code'].astype(str)"
      ],
      "metadata": {
        "id": "iKZWlLP9QB5E"
      },
      "execution_count": null,
      "outputs": []
    },
    {
      "cell_type": "code",
      "source": [
        "bins = list(foreigner[\"pop\"].quantile([0, 0.2, 0.4, 0.5, 0.6, 0.7, 0.8, 0.9, 1]))\n",
        "bins"
      ],
      "metadata": {
        "id": "uO3iOo8UQDN8"
      },
      "execution_count": null,
      "outputs": []
    },
    {
      "cell_type": "code",
      "source": [
        "import folium\n",
        "# 배경 지도 만들기\n",
        "map_seoul = folium.Map(location = [37.56, 127], zoom_start = 12, tiles = 'cartodbpositron')\n",
        "# 단계구분도 만들기\n",
        "folium.Choropleth(\n",
        "    geo_data = geo_seoul, data = foreigner, columns = ('code', 'pop'), key_on = 'feature.properties.ADM_DR_CD',\n",
        "    fill_color = 'Blues', nan_fill_color = 'White', fill_opacity = 1, line_opacity = 0.5, bins = bins).add_to(map_seoul)\n",
        "map_seoul"
      ],
      "metadata": {
        "id": "3-XpOhyBQE4d"
      },
      "execution_count": null,
      "outputs": []
    },
    {
      "cell_type": "code",
      "source": [
        "geo_seoul_sig = json.load(open('/content/drive/MyDrive/수업/데이터 분석 입문/강의자료/Data/SIG_Seoul.geojson'), encoding = 'UTF-8')"
      ],
      "metadata": {
        "id": "pI7snSzXQGun"
      },
      "execution_count": null,
      "outputs": []
    },
    {
      "cell_type": "code",
      "source": [
        "# 서울 구 라인 추가하기\n",
        "folium.Choropleth(\n",
        "    geo_data = geo_seoul_sig, fill_opacity = 0, line_opacity = 4).add_to(map_seoul)\n",
        "map_seoul"
      ],
      "metadata": {
        "id": "KsPenUJXQId1"
      },
      "execution_count": null,
      "outputs": []
    },
    {
      "cell_type": "code",
      "source": [
        "# HTML 파일로 저장하기\n",
        "map_seoul.save('map_seoul.html')"
      ],
      "metadata": {
        "id": "QWjkH5h_QJ2N"
      },
      "execution_count": null,
      "outputs": []
    },
    {
      "cell_type": "code",
      "source": [
        "# 실습"
      ],
      "metadata": {
        "id": "qyaPSnTqQLrc"
      },
      "execution_count": null,
      "outputs": []
    },
    {
      "cell_type": "code",
      "source": [
        "school = folium.Map(location=[37.487676, 126.824889], zoom_start = 18)\n",
        "school"
      ],
      "metadata": {
        "id": "SDBDA-gBQOjE"
      },
      "execution_count": null,
      "outputs": []
    },
    {
      "cell_type": "code",
      "source": [
        "# 지도 위에 마커 표시하기\n",
        "folium.Marker([37.487676, 126.824889], popup=\"성공회대학교\", tooltip=\"성공회대학교\").add_to(school)\n",
        "school"
      ],
      "metadata": {
        "id": "CbMWkwNCQQE8"
      },
      "execution_count": null,
      "outputs": []
    },
    {
      "cell_type": "code",
      "source": [],
      "metadata": {
        "id": "EM1ecrTLQRyk"
      },
      "execution_count": null,
      "outputs": []
    }
  ]
}