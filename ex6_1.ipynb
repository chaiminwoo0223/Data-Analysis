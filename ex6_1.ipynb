{
  "nbformat": 4,
  "nbformat_minor": 0,
  "metadata": {
    "colab": {
      "private_outputs": true,
      "provenance": [],
      "mount_file_id": "1bK0udATKs8O--z3uhtx_bbc6qDcwL_O1",
      "authorship_tag": "ABX9TyOJnGtgUeUU18smwxaP13Kd",
      "include_colab_link": true
    },
    "kernelspec": {
      "name": "python3",
      "display_name": "Python 3"
    },
    "language_info": {
      "name": "python"
    }
  },
  "cells": [
    {
      "cell_type": "markdown",
      "metadata": {
        "id": "view-in-github",
        "colab_type": "text"
      },
      "source": [
        "<a href=\"https://colab.research.google.com/github/chaiminwoo0223/Data-Analysis/blob/main/ex6_1.ipynb\" target=\"_parent\"><img src=\"https://colab.research.google.com/assets/colab-badge.svg\" alt=\"Open In Colab\"/></a>"
      ]
    },
    {
      "cell_type": "code",
      "execution_count": null,
      "metadata": {
        "id": "basTHF7QjWo-"
      },
      "outputs": [],
      "source": [
        "import pandas as pd"
      ]
    },
    {
      "cell_type": "code",
      "source": [
        "# 중간고사 데이터 만들기\n",
        "test1 = pd.DataFrame({'id'     :[1,2,3,4,5],\n",
        "                      'midterm':[60,80,70,90,85]})\n",
        "# 기말고사 데이터 만들기\n",
        "test2 = pd.DataFrame({'id'     :[1,2,3,4,5],\n",
        "                      'final':[70,83,65,95,80]})"
      ],
      "metadata": {
        "id": "9vVpO8KIj3fe"
      },
      "execution_count": null,
      "outputs": []
    },
    {
      "cell_type": "code",
      "source": [
        "test1"
      ],
      "metadata": {
        "id": "652KnNBukjFr"
      },
      "execution_count": null,
      "outputs": []
    },
    {
      "cell_type": "code",
      "source": [
        "test2"
      ],
      "metadata": {
        "id": "NUxB8LbvlLXZ"
      },
      "execution_count": null,
      "outputs": []
    },
    {
      "cell_type": "code",
      "source": [
        "# id 기준으로 합쳐서 total에 할당\n",
        "total = pd.merge(test1, test2, how = 'left', on = 'id')\n",
        "total"
      ],
      "metadata": {
        "id": "gPUiMXSMkqCF"
      },
      "execution_count": null,
      "outputs": []
    },
    {
      "cell_type": "code",
      "source": [
        "# 선생님 데이터 만들기\n",
        "name = pd.DataFrame({'nclass':[1,2,3,4,5],\n",
        "                     'tescher':['kim','lee','park','choi','jung']})\n",
        "name"
      ],
      "metadata": {
        "id": "ROWeI--flKPi"
      },
      "execution_count": null,
      "outputs": []
    },
    {
      "cell_type": "code",
      "source": [
        "exam = pd.read_csv('/content/drive/MyDrive/수업/데이터 분석 입문/강의자료/Data/exam.csv')\n",
        "exam"
      ],
      "metadata": {
        "id": "jDQaEsbDoHZ8"
      },
      "execution_count": null,
      "outputs": []
    },
    {
      "cell_type": "code",
      "source": [
        "# nclass 기준으로 합쳐서 exam_now에 할당\n",
        "exam_now = pd.merge(exam, name, how = 'left',on = 'nclass')\n",
        "exam_now"
      ],
      "metadata": {
        "id": "-VtK1k-OlGW6"
      },
      "execution_count": null,
      "outputs": []
    },
    {
      "cell_type": "code",
      "source": [
        "# 학생 1~5번 시험 데이터 만들기\n",
        "group_a = pd.DataFrame({'id':  [1,2,3,4,5],\n",
        "                        'test': [60,80,70,90,85]})\n",
        "# 학생 6~10번 시험 데이터 만들기\n",
        "group_b = pd.DataFrame({'id':  [1,2,3,4,5],\n",
        "                        'test':[70,83,65,95,80]})"
      ],
      "metadata": {
        "id": "Jdtb3IYBoVdt"
      },
      "execution_count": null,
      "outputs": []
    },
    {
      "cell_type": "code",
      "source": [
        "group_a"
      ],
      "metadata": {
        "id": "deQ3kZkWyXr0"
      },
      "execution_count": null,
      "outputs": []
    },
    {
      "cell_type": "code",
      "source": [
        "group_b"
      ],
      "metadata": {
        "id": "MCY4GzkWycN6"
      },
      "execution_count": null,
      "outputs": []
    },
    {
      "cell_type": "code",
      "source": [
        "# 데이터 합쳐서 group_all에 할당\n",
        "group_all = pd.concat([group_a,group_b])\n",
        "group_all"
      ],
      "metadata": {
        "id": "RJNWdMkhyd6-"
      },
      "execution_count": null,
      "outputs": []
    },
    {
      "cell_type": "code",
      "source": [
        "# 데이터 합쳐서 group_all에 할당\n",
        "group_all = pd.concat([group_a,group_b],ignore_index=True)\n",
        "group_all"
      ],
      "metadata": {
        "id": "70FWv9gFyvhc"
      },
      "execution_count": null,
      "outputs": []
    },
    {
      "cell_type": "code",
      "source": [
        "# 실습"
      ],
      "metadata": {
        "id": "o927gM6VzNcH"
      },
      "execution_count": null,
      "outputs": []
    },
    {
      "cell_type": "code",
      "source": [
        "mpg = pd.read_csv('/content/drive/MyDrive/수업/데이터 분석 입문/강의자료/Data/mpg.csv')\n",
        "mpg"
      ],
      "metadata": {
        "id": "sBqbZEhOzadJ"
      },
      "execution_count": null,
      "outputs": []
    },
    {
      "cell_type": "code",
      "source": [],
      "metadata": {
        "id": "omWBxWDtzhC1"
      },
      "execution_count": null,
      "outputs": []
    }
  ]
}