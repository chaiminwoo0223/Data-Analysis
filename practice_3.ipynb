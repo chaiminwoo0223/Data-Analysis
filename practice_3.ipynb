{
  "nbformat": 4,
  "nbformat_minor": 0,
  "metadata": {
    "colab": {
      "private_outputs": true,
      "provenance": [],
      "mount_file_id": "1xLI0R837RCu2pjR2PAd8uJ1gJ61Q15oo",
      "authorship_tag": "ABX9TyMxLuYgc1Ym1vbkMKvyUzF7",
      "include_colab_link": true
    },
    "kernelspec": {
      "name": "python3",
      "display_name": "Python 3"
    },
    "language_info": {
      "name": "python"
    }
  },
  "cells": [
    {
      "cell_type": "markdown",
      "metadata": {
        "id": "view-in-github",
        "colab_type": "text"
      },
      "source": [
        "<a href=\"https://colab.research.google.com/github/chaiminwoo0223/Data-Analysis/blob/main/practice_3.ipynb\" target=\"_parent\"><img src=\"https://colab.research.google.com/assets/colab-badge.svg\" alt=\"Open In Colab\"/></a>"
      ]
    },
    {
      "cell_type": "code",
      "execution_count": null,
      "metadata": {
        "id": "SGqdO2Yk08dD"
      },
      "outputs": [],
      "source": [
        "import pandas as pd\n",
        "import requests\n",
        "from bs4 import BeautifulSoup\n",
        "from tqdm import tqdm\n",
        "titles = []\n",
        "contents = []\n",
        "for n in tqdm(range(1,300,10)):\n",
        "    url = requests.get(f\"https://search.naver.com/search.naver?where=news&sm=tab_jum&query=%EB%B8%94%EB%9E%99%ED%8C%AC%EC%84%9C2\")\n",
        "    html = BeautifulSoup(url.text)\n",
        "    for i in html.select('ul.list_news')[0].select('li.bx'):\n",
        "        title = i.select('a.news_tit')[0].text\n",
        "        content = i.select('div.news_dsc')[0].text\n",
        "        titles.append(title)\n",
        "        contents.append(content)\n",
        "df_news = pd.DataFrame({'title' : titles, 'content' : contents})"
      ]
    },
    {
      "cell_type": "code",
      "source": [
        "!pip install jpype1"
      ],
      "metadata": {
        "id": "Z0291ZBY1D1Y"
      },
      "execution_count": null,
      "outputs": []
    },
    {
      "cell_type": "code",
      "source": [
        "!pip install konlpy"
      ],
      "metadata": {
        "id": "dnCojbL32gC_"
      },
      "execution_count": null,
      "outputs": []
    },
    {
      "cell_type": "code",
      "source": [
        "!pip install wordcloud"
      ],
      "metadata": {
        "id": "JC4uWZgc2iJt"
      },
      "execution_count": null,
      "outputs": []
    },
    {
      "cell_type": "code",
      "source": [
        "import re\n",
        "import konlpy\n",
        "import numpy as np\n",
        "import seaborn as sns\n",
        "import matplotlib.pyplot as plt\n",
        "import PIL"
      ],
      "metadata": {
        "id": "YGJv6vkY2k4V"
      },
      "execution_count": null,
      "outputs": []
    },
    {
      "cell_type": "code",
      "source": [
        "df_news"
      ],
      "metadata": {
        "id": "L_ycw5Pp3AyP"
      },
      "execution_count": null,
      "outputs": []
    },
    {
      "cell_type": "code",
      "source": [
        "df_news.info()"
      ],
      "metadata": {
        "id": "3fIeKLsb4N3X"
      },
      "execution_count": null,
      "outputs": []
    },
    {
      "cell_type": "code",
      "source": [
        "# 불필요한 문자 제거하기\n",
        "df_news['title'] = df_news['title'].str.replace('[^가-힣]', ' ', regex = True)\n",
        "df_news['title'].head()"
      ],
      "metadata": {
        "id": "8J5kdggS2yG9"
      },
      "execution_count": null,
      "outputs": []
    },
    {
      "cell_type": "code",
      "source": [
        "# kkma 만들기\n",
        "kkma = konlpy.tag.Kkma()"
      ],
      "metadata": {
        "id": "VAWAr-t63O3N"
      },
      "execution_count": null,
      "outputs": []
    },
    {
      "cell_type": "code",
      "source": [
        "# 명사 추출 - apply() 활용\n",
        "nouns = df_news['title'].apply(kkma.nouns)\n",
        "nouns"
      ],
      "metadata": {
        "id": "r3ksZV6N4cNU"
      },
      "execution_count": null,
      "outputs": []
    },
    {
      "cell_type": "code",
      "source": [
        "# 한 행에 한 단어가 들어가도록 구성\n",
        "nouns = nouns.explode()\n",
        "nouns"
      ],
      "metadata": {
        "id": "rPIZKh4R4g4E"
      },
      "execution_count": null,
      "outputs": []
    },
    {
      "cell_type": "code",
      "source": [
        "# 데이터 프레임 만들기\n",
        "df_word = pd.DataFrame({'word' : nouns})\n",
        "# 글자 수 추가하기\n",
        "df_word['count'] = df_word['word'].str.len()\n",
        "# 두 글자 이상 단어만 남기기\n",
        "df_word = df_word.query('count >= 2')\n",
        "df_word"
      ],
      "metadata": {
        "id": "sSDwOoUe4qaV"
      },
      "execution_count": null,
      "outputs": []
    },
    {
      "cell_type": "code",
      "source": [
        "# 빈도표 만들기\n",
        "df_word = df_word.groupby('word', as_index = False)\\\n",
        "                 .agg(n = ('word', 'count'))\\\n",
        "                 .sort_values('n', ascending = False)\n",
        "df_word"
      ],
      "metadata": {
        "id": "nDqcUnI14q18"
      },
      "execution_count": null,
      "outputs": []
    },
    {
      "cell_type": "code",
      "source": [
        "# 단어 빈도 상위 20개 추출하기\n",
        "top20 = df_word.head(20)\n",
        "top20"
      ],
      "metadata": {
        "id": "hGF_GuAi4s6t"
      },
      "execution_count": null,
      "outputs": []
    },
    {
      "cell_type": "code",
      "source": [
        "# 한글폰트 설정하기\n",
        "!sudo apt-get install -y fonts-nanum\n",
        "!sudo fc-cache -fv\n",
        "!rm ~/.cache/matplotlib -rf"
      ],
      "metadata": {
        "id": "iE2RC0pG4vac"
      },
      "execution_count": null,
      "outputs": []
    },
    {
      "cell_type": "code",
      "source": [
        "plt.rcParams.update({'font.family'    : 'NanumBarunGothic',\n",
        "                     'figure.dpi'     : '120',\n",
        "                     'figure.figsize' : [6.5, 6]})\n",
        "# 막대 그래프 만들기\n",
        "sns.barplot(data = top20, y = 'word', x = 'n')"
      ],
      "metadata": {
        "id": "CK8_MO-a48Bt"
      },
      "execution_count": null,
      "outputs": []
    },
    {
      "cell_type": "code",
      "source": [
        "dic_word = df_word.set_index('word').to_dict()['n']"
      ],
      "metadata": {
        "id": "ZuhUf-f54-7d"
      },
      "execution_count": null,
      "outputs": []
    },
    {
      "cell_type": "code",
      "source": [
        "font = '/content/drive/MyDrive/수업/데이터 분석 입문/강의자료/Data/DoHyeon-Regular.ttf'\n",
        "icon = PIL.Image.open('/content/drive/MyDrive/수업/데이터 분석 입문/강의자료/Data/cloud.png')"
      ],
      "metadata": {
        "id": "96D-U63M5N_F"
      },
      "execution_count": null,
      "outputs": []
    },
    {
      "cell_type": "code",
      "source": [
        "img = PIL.Image.new('RGB', icon.size, (255, 255, 255))\n",
        "img.paste(icon, icon)\n",
        "img = np.array(img)\n",
        "img.shape"
      ],
      "metadata": {
        "id": "Y3yxjVq15SI8"
      },
      "execution_count": null,
      "outputs": []
    },
    {
      "cell_type": "code",
      "source": [
        "# wc 만들기\n",
        "from wordcloud import WordCloud\n",
        "wc = WordCloud(random_state = 1234, font_path = font, width = 400, height = 400, background_color = 'white', mask = img)"
      ],
      "metadata": {
        "id": "n5Owfe6R5UNU"
      },
      "execution_count": null,
      "outputs": []
    },
    {
      "cell_type": "code",
      "source": [
        "# 워드 클라우드 만들기\n",
        "img_wordcloud = wc.generate_from_frequencies(dic_word)\n",
        "# 워드 클라우드 출력하기\n",
        "plt.figure(figsize = (10,10))\n",
        "plt.axis('off')\n",
        "plt.imshow(img_wordcloud)"
      ],
      "metadata": {
        "id": "ZNAUl6di5WSU"
      },
      "execution_count": null,
      "outputs": []
    },
    {
      "cell_type": "code",
      "source": [],
      "metadata": {
        "id": "Pzq9Stlb5YFc"
      },
      "execution_count": null,
      "outputs": []
    }
  ]
}