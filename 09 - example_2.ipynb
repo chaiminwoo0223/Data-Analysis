{
  "nbformat": 4,
  "nbformat_minor": 0,
  "metadata": {
    "colab": {
      "private_outputs": true,
      "provenance": [],
      "mount_file_id": "1ZpAldVhpTpvvFtDQrYDZG2Z3b-mVe6gF",
      "authorship_tag": "ABX9TyNP88bE3eZG5fEhfrrSivqd",
      "include_colab_link": true
    },
    "kernelspec": {
      "name": "python3",
      "display_name": "Python 3"
    },
    "language_info": {
      "name": "python"
    }
  },
  "cells": [
    {
      "cell_type": "markdown",
      "metadata": {
        "id": "view-in-github",
        "colab_type": "text"
      },
      "source": [
        "<a href=\"https://colab.research.google.com/github/chaiminwoo0223/Data-Analysis/blob/main/09%20-%20example_2.ipynb\" target=\"_parent\"><img src=\"https://colab.research.google.com/assets/colab-badge.svg\" alt=\"Open In Colab\"/></a>"
      ]
    },
    {
      "cell_type": "code",
      "source": [
        "!pip install jpype1"
      ],
      "metadata": {
        "id": "dx8svdMG5baV"
      },
      "execution_count": null,
      "outputs": []
    },
    {
      "cell_type": "code",
      "source": [
        "!pip install konlpy"
      ],
      "metadata": {
        "id": "f3jEDP3N5eU0"
      },
      "execution_count": null,
      "outputs": []
    },
    {
      "cell_type": "code",
      "source": [
        "!pip install wordcloud"
      ],
      "metadata": {
        "id": "ajw62GMw5jIj"
      },
      "execution_count": null,
      "outputs": []
    },
    {
      "cell_type": "code",
      "source": [
        "import re\n",
        "import konlpy\n",
        "import pandas as pd\n",
        "import numpy as np\n",
        "import seaborn as sns\n",
        "import matplotlib.pyplot as plt\n",
        "import PIL"
      ],
      "metadata": {
        "id": "dmRom3e25DCk"
      },
      "execution_count": null,
      "outputs": []
    },
    {
      "cell_type": "code",
      "execution_count": null,
      "metadata": {
        "id": "jzPZ9ysd4u0Y"
      },
      "outputs": [],
      "source": [
        "# 데이터 불러오기\n",
        "df = pd.read_csv('/content/drive/MyDrive/수업/데이터 분석 입문/강의자료/Data/news_comment_BTS.csv')\n",
        "# 데이터 살펴보기\n",
        "df.info()"
      ]
    },
    {
      "cell_type": "code",
      "source": [
        "# 불필요한 문자 제거하기\n",
        "df['reply'] = df['reply'].str.replace('[^가-힣]', ' ', regex = True)\n",
        "df['reply'].head()"
      ],
      "metadata": {
        "id": "pAUfd9LJ5xJ8"
      },
      "execution_count": null,
      "outputs": []
    },
    {
      "cell_type": "code",
      "source": [
        "# kkma 만들기\n",
        "kkma = konlpy.tag.Kkma()"
      ],
      "metadata": {
        "id": "gQtatcGm6I60"
      },
      "execution_count": null,
      "outputs": []
    },
    {
      "cell_type": "code",
      "source": [
        "# 명사 추출 - apply() 활용\n",
        "nouns = df['reply'].apply(kkma.nouns)\n",
        "nouns"
      ],
      "metadata": {
        "id": "I9nL066x6arU"
      },
      "execution_count": null,
      "outputs": []
    },
    {
      "cell_type": "code",
      "source": [
        "# 한 행에 한 단어가 들어가도록 구성\n",
        "nouns = nouns.explode()\n",
        "nouns"
      ],
      "metadata": {
        "id": "BnwasH8m6ql8"
      },
      "execution_count": null,
      "outputs": []
    },
    {
      "cell_type": "code",
      "source": [
        "# 데이터 프레임 만들기\n",
        "df_word = pd.DataFrame({'word' : nouns})\n",
        "# 글자 수 추가하기\n",
        "df_word['count'] = df_word['word'].str.len()\n",
        "# 두 글자 이상 단어만 남기기\n",
        "df_word = df_word.query('count >= 2')\n",
        "df_word"
      ],
      "metadata": {
        "id": "UnliZPno631L"
      },
      "execution_count": null,
      "outputs": []
    },
    {
      "cell_type": "code",
      "source": [
        "# 빈도표 만들기\n",
        "df_word = df_word.groupby('word', as_index = False)\\\n",
        "                 .agg(n = ('word', 'count'))\\\n",
        "                 .sort_values('n', ascending = False)\n",
        "df_word"
      ],
      "metadata": {
        "id": "hkxjalkN7Zxs"
      },
      "execution_count": null,
      "outputs": []
    },
    {
      "cell_type": "code",
      "source": [
        "# 단어 빈도 상위 20개 추출하기\n",
        "top20 = df_word.head(20)\n",
        "top20"
      ],
      "metadata": {
        "id": "IGGq9Snf7kXe"
      },
      "execution_count": null,
      "outputs": []
    },
    {
      "cell_type": "code",
      "source": [
        "# 한글폰트 설정하기\n",
        "!sudo apt-get install -y fonts-nanum\n",
        "!sudo fc-cache -fv\n",
        "!rm ~/.cache/matplotlib -rf"
      ],
      "metadata": {
        "id": "V5filBPi7ok0"
      },
      "execution_count": null,
      "outputs": []
    },
    {
      "cell_type": "code",
      "source": [
        "plt.rcParams.update({'font.family'    : 'NanumBarunGothic',\n",
        "                     'figure.dpi'     : '120',\n",
        "                     'figure.figsize' : [6.5, 6]})\n",
        "# 막대 그래프 만들기\n",
        "sns.barplot(data = top20, y = 'word', x = 'n')"
      ],
      "metadata": {
        "id": "g6itbwco7vCj"
      },
      "execution_count": null,
      "outputs": []
    },
    {
      "cell_type": "code",
      "source": [
        "dic_word = df_word.set_index('word').to_dict()['n']"
      ],
      "metadata": {
        "id": "M-GtUCw37-Xd"
      },
      "execution_count": null,
      "outputs": []
    },
    {
      "cell_type": "code",
      "source": [
        "font = '/content/drive/MyDrive/수업/데이터 분석 입문/강의자료/Data/DoHyeon-Regular.ttf'"
      ],
      "metadata": {
        "id": "V6ayZLfhyLT8"
      },
      "execution_count": null,
      "outputs": []
    },
    {
      "cell_type": "code",
      "source": [
        "icon = PIL.Image.open('/content/drive/MyDrive/수업/데이터 분석 입문/강의자료/Data/cloud.png')"
      ],
      "metadata": {
        "id": "v4Btkz5uyYgx"
      },
      "execution_count": null,
      "outputs": []
    },
    {
      "cell_type": "code",
      "source": [
        "img = PIL.Image.new('RGB', icon.size, (255, 255, 255))\n",
        "img.paste(icon, icon)\n",
        "img = np.array(img)\n",
        "img.shape"
      ],
      "metadata": {
        "id": "pgnyPRENyQ2w"
      },
      "execution_count": null,
      "outputs": []
    },
    {
      "cell_type": "code",
      "source": [
        "# wc 만들기\n",
        "from wordcloud import WordCloud\n",
        "wc = WordCloud(random_state = 1234, font_path = font, width = 400, height = 400, background_color = 'white', mask = img)"
      ],
      "metadata": {
        "id": "BUAeDmmQx5LQ"
      },
      "execution_count": null,
      "outputs": []
    },
    {
      "cell_type": "code",
      "source": [
        "# 워드 클라우드 만들기\n",
        "img_wordcloud = wc.generate_from_frequencies(dic_word)\n",
        "# 워드 클라우드 출력하기\n",
        "plt.figure(figsize = (10,10))\n",
        "plt.axis('off')\n",
        "plt.imshow(img_wordcloud)"
      ],
      "metadata": {
        "id": "PuvmqfNByL8X"
      },
      "execution_count": null,
      "outputs": []
    },
    {
      "cell_type": "code",
      "source": [],
      "metadata": {
        "id": "hCRGbwedyj6u"
      },
      "execution_count": null,
      "outputs": []
    }
  ]
}