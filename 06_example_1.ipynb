{
  "nbformat": 4,
  "nbformat_minor": 0,
  "metadata": {
    "colab": {
      "private_outputs": true,
      "provenance": [],
      "mount_file_id": "1yUwdmjRgDGpI-7UOGXKtuOkAGyivsU5R",
      "authorship_tag": "ABX9TyPs4lOHJztz4KzZ479+5KVJ",
      "include_colab_link": true
    },
    "kernelspec": {
      "name": "python3",
      "display_name": "Python 3"
    },
    "language_info": {
      "name": "python"
    }
  },
  "cells": [
    {
      "cell_type": "markdown",
      "metadata": {
        "id": "view-in-github",
        "colab_type": "text"
      },
      "source": [
        "<a href=\"https://colab.research.google.com/github/chaiminwoo0223/Data-Analysis/blob/main/06_example_1.ipynb\" target=\"_parent\"><img src=\"https://colab.research.google.com/assets/colab-badge.svg\" alt=\"Open In Colab\"/></a>"
      ]
    },
    {
      "cell_type": "code",
      "execution_count": null,
      "metadata": {
        "id": "yIK-8-tOu6J8"
      },
      "outputs": [],
      "source": [
        "# 결측치 만들기\n",
        "import pandas as pd\n",
        "import numpy as np\n",
        "df = pd.DataFrame({'sex'  : ['M','F',np.nan,'M','F'],\n",
        "                   'score': [5,4,3,4,np.nan]})\n",
        "df"
      ]
    },
    {
      "cell_type": "code",
      "source": [
        "df['score'] + 1 # NaN: Not a Number"
      ],
      "metadata": {
        "id": "iDxEXnIiwVbp"
      },
      "execution_count": null,
      "outputs": []
    },
    {
      "cell_type": "code",
      "source": [
        "pd.isna(df) # 결측치 확인"
      ],
      "metadata": {
        "id": "E-XXtenMw2Ep"
      },
      "execution_count": null,
      "outputs": []
    },
    {
      "cell_type": "code",
      "source": [
        "pd.isna(df).sum() # 결측치 빈도 확인"
      ],
      "metadata": {
        "id": "46PrcpwpxNiN"
      },
      "execution_count": null,
      "outputs": []
    },
    {
      "cell_type": "code",
      "source": [
        "df.dropna(subset = ['score']) # score 결측치 제거"
      ],
      "metadata": {
        "id": "ZlCloH3Zxae7"
      },
      "execution_count": null,
      "outputs": []
    },
    {
      "cell_type": "code",
      "source": [
        "df_nomiss = df.dropna(subset = ['score']) # score 결측치 제거\n",
        "df_nomiss['score'] + 1 # score로 연산"
      ],
      "metadata": {
        "id": "dhtxWozSxsEd"
      },
      "execution_count": null,
      "outputs": []
    },
    {
      "cell_type": "code",
      "source": [
        "df_nomiss = df.dropna(subset = ['score','sex']) # score, sex 결측치 제거\n",
        "df_nomiss"
      ],
      "metadata": {
        "id": "BNX5kgj9x8ve"
      },
      "execution_count": null,
      "outputs": []
    },
    {
      "cell_type": "code",
      "source": [
        "df_nomiss2 = df.dropna() # 모든 변수에 결측치 제거\n",
        "df_nomiss2"
      ],
      "metadata": {
        "id": "hfF0GfYlyWsE"
      },
      "execution_count": null,
      "outputs": []
    },
    {
      "cell_type": "code",
      "source": [
        "df['score'].mean()"
      ],
      "metadata": {
        "id": "gYmWSBsXymN8"
      },
      "execution_count": null,
      "outputs": []
    },
    {
      "cell_type": "code",
      "source": [
        "df['score'].sum()"
      ],
      "metadata": {
        "id": "nQHkMjBjz4Gc"
      },
      "execution_count": null,
      "outputs": []
    },
    {
      "cell_type": "code",
      "source": [
        "df.groupby('sex').agg(mean_score = ('score','mean'),\n",
        "                      sum_score  = ('score','sum'))"
      ],
      "metadata": {
        "id": "F5rciBWB0ETr"
      },
      "execution_count": null,
      "outputs": []
    },
    {
      "cell_type": "code",
      "source": [
        "exam = pd.read_csv('/content/drive/MyDrive/수업/데이터 분석 입문/강의자료/Data/exam.csv') # 데이터 불러오기\n",
        "exam.loc[[2,7,14],['math']] = np.nan # 2, 7, 14행의 math에 NaN 할당\n",
        "exam"
      ],
      "metadata": {
        "id": "g31nq7uq0gnX"
      },
      "execution_count": null,
      "outputs": []
    },
    {
      "cell_type": "code",
      "source": [
        "exam['math'].mean()"
      ],
      "metadata": {
        "id": "JWB5NorN3ieY"
      },
      "execution_count": null,
      "outputs": []
    },
    {
      "cell_type": "code",
      "source": [
        "exam['math'] = exam['math'].fillna(55) # math가 NaN이면 55로 대체\n",
        "exam"
      ],
      "metadata": {
        "id": "ZSPDATLA3uKo"
      },
      "execution_count": null,
      "outputs": []
    },
    {
      "cell_type": "code",
      "source": [
        "exam['math'].isna().sum() # 결측치 빈도 확인"
      ],
      "metadata": {
        "id": "oouzBVB_Fr9B"
      },
      "execution_count": null,
      "outputs": []
    },
    {
      "cell_type": "code",
      "source": [
        "# 실습"
      ],
      "metadata": {
        "id": "vb2PFYOY3_Ez"
      },
      "execution_count": null,
      "outputs": []
    },
    {
      "cell_type": "code",
      "source": [
        "mpg = pd.read_csv('/content/drive/MyDrive/수업/데이터 분석 입문/강의자료/Data/mpg.csv')\n",
        "mpg"
      ],
      "metadata": {
        "id": "4S0ICrl0F8q9"
      },
      "execution_count": null,
      "outputs": []
    },
    {
      "cell_type": "code",
      "source": [
        "mpg.loc[[64,123,130,152,211],\"hwy\"] = np.nan # NaN 할당하기"
      ],
      "metadata": {
        "id": "YGGEP1VBGJtI"
      },
      "execution_count": null,
      "outputs": []
    },
    {
      "cell_type": "code",
      "source": [
        "mpg[['drv','hwy']].isna().sum()"
      ],
      "metadata": {
        "id": "bgeUEqe_Gi55"
      },
      "execution_count": null,
      "outputs": []
    },
    {
      "cell_type": "code",
      "source": [
        "mpg.dropna(subset = ['hwy'])\\\n",
        "   .groupby('drv').agg(mean_hwy = ('hwy','mean'))"
      ],
      "metadata": {
        "id": "pPd0OJXHGw0w"
      },
      "execution_count": null,
      "outputs": []
    },
    {
      "cell_type": "code",
      "source": [],
      "metadata": {
        "id": "H23xfLdFHZ4b"
      },
      "execution_count": null,
      "outputs": []
    }
  ]
}