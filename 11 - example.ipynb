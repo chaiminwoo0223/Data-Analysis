{
  "nbformat": 4,
  "nbformat_minor": 0,
  "metadata": {
    "colab": {
      "private_outputs": true,
      "provenance": [],
      "mount_file_id": "1JZVABr3mMhnu3bxyAMwhy65XmO1yK21Y",
      "authorship_tag": "ABX9TyPBBf8vdEassRz5h8pA1syc",
      "include_colab_link": true
    },
    "kernelspec": {
      "name": "python3",
      "display_name": "Python 3"
    },
    "language_info": {
      "name": "python"
    }
  },
  "cells": [
    {
      "cell_type": "markdown",
      "metadata": {
        "id": "view-in-github",
        "colab_type": "text"
      },
      "source": [
        "<a href=\"https://colab.research.google.com/github/chaiminwoo0223/Data-Analysis/blob/main/11%20-%20example.ipynb\" target=\"_parent\"><img src=\"https://colab.research.google.com/assets/colab-badge.svg\" alt=\"Open In Colab\"/></a>"
      ]
    },
    {
      "cell_type": "code",
      "execution_count": null,
      "metadata": {
        "id": "jGTUrTjKhHYK"
      },
      "outputs": [],
      "source": [
        "import pandas as pd\n",
        "mpg = pd.read_csv('/content/drive/MyDrive/수업/데이터 분석 입문/강의자료/Data/mpg.csv')\n",
        "mpg.head()"
      ]
    },
    {
      "cell_type": "code",
      "source": [
        "# 기술 통계 분석\n",
        "mpg.query('category in [\"compact\", \"suv\"]')\\\n",
        "   .groupby('category', as_index = False).agg(n = ('category', 'count'), mean = ('cty', 'mean'))"
      ],
      "metadata": {
        "id": "TqeAy1QMknan"
      },
      "execution_count": null,
      "outputs": []
    },
    {
      "cell_type": "code",
      "source": [
        "compact = mpg.query('category == \"compact\"')['cty']\n",
        "suv = mpg.query('category == \"suv\"')['cty']"
      ],
      "metadata": {
        "id": "lCAMOCfclRGl"
      },
      "execution_count": null,
      "outputs": []
    },
    {
      "cell_type": "code",
      "source": [
        "# t-test\n",
        "from scipy import stats\n",
        "stats.ttest_ind(compact, suv, equal_var = True)"
      ],
      "metadata": {
        "id": "kBA_bToJlfqW"
      },
      "execution_count": null,
      "outputs": []
    },
    {
      "cell_type": "code",
      "source": [
        "# 기술 통계 분석\n",
        "mpg.query('fl in [\"r\", \"p\"]')\\\n",
        "   .groupby('fl', as_index = False).agg(n = ('fl', 'count'), mean = ('cty', 'mean'))"
      ],
      "metadata": {
        "id": "xL15U8Julsod"
      },
      "execution_count": null,
      "outputs": []
    },
    {
      "cell_type": "code",
      "source": [
        "regular = mpg.query('fl == \"r\"')['cty']\n",
        "premium = mpg.query('fl == \"p\"')['cty']"
      ],
      "metadata": {
        "id": "WbNAOEdGmSo9"
      },
      "execution_count": null,
      "outputs": []
    },
    {
      "cell_type": "code",
      "source": [
        "# t-test\n",
        "stats.ttest_ind(regular, premium, equal_var = True)"
      ],
      "metadata": {
        "id": "5hnqynLTmjFc"
      },
      "execution_count": null,
      "outputs": []
    },
    {
      "cell_type": "code",
      "source": [
        "# economics 데이터 불러오기\n",
        "economics = pd.read_csv('/content/drive/MyDrive/수업/데이터 분석 입문/강의자료/Data/economics.csv')\n",
        "# 상관행렬 만들기\n",
        "economics[['unemploy', 'pce']].corr()"
      ],
      "metadata": {
        "id": "HaPhOU46m8QN"
      },
      "execution_count": null,
      "outputs": []
    },
    {
      "cell_type": "code",
      "source": [
        "# 상관분석\n",
        "stats.pearsonr(economics['unemploy'], economics['pce'])"
      ],
      "metadata": {
        "id": "hePGfzQYs2Py"
      },
      "execution_count": null,
      "outputs": []
    },
    {
      "cell_type": "code",
      "source": [
        "mtcars = pd.read_csv('/content/drive/MyDrive/수업/데이터 분석 입문/강의자료/Data/mtcars.csv')\n",
        "mtcars.head()"
      ],
      "metadata": {
        "id": "CiFB1F_JtFF5"
      },
      "execution_count": null,
      "outputs": []
    },
    {
      "cell_type": "code",
      "source": [
        "car_cor = mtcars.corr()     # 상관행렬 만들기\n",
        "car_cor = round(car_cor, 2) # 소수점 둘째자리까지 반올림\n",
        "car_cor"
      ],
      "metadata": {
        "id": "qf0u0kWitMug"
      },
      "execution_count": null,
      "outputs": []
    },
    {
      "cell_type": "code",
      "source": [
        "import matplotlib.pyplot as plt\n",
        "plt.rcParams.update({'figure.dpi' : '120', 'figure.figsize' : [7.5, 5.5]})"
      ],
      "metadata": {
        "id": "anWn1IfwtRzh"
      },
      "execution_count": null,
      "outputs": []
    },
    {
      "cell_type": "code",
      "source": [
        "# 컬러맵 만들기\n",
        "import seaborn as sns\n",
        "sns.heatmap(car_cor, annot = True, cmap = 'RdBu')"
      ],
      "metadata": {
        "id": "7D0lrTBqtnHJ"
      },
      "execution_count": null,
      "outputs": []
    },
    {
      "cell_type": "code",
      "source": [
        "# mask 만들기\n",
        "import numpy as np\n",
        "mask = np.zeros_like(car_cor)\n",
        "mask"
      ],
      "metadata": {
        "id": "1qq0Ijfht7dA"
      },
      "execution_count": null,
      "outputs": []
    },
    {
      "cell_type": "code",
      "source": [
        "# 오른쪽 위 대각행렬을 1로 바꾸기\n",
        "mask[np.triu_indices_from(mask)] = 1\n",
        "mask"
      ],
      "metadata": {
        "id": "bI9iK-OIuoxZ"
      },
      "execution_count": null,
      "outputs": []
    },
    {
      "cell_type": "code",
      "source": [
        "# 컬러맵 만들기\n",
        "sns.heatmap(car_cor, annot = True, cmap = 'RdBu', mask = mask)"
      ],
      "metadata": {
        "id": "oQvkeQjguzeB"
      },
      "execution_count": null,
      "outputs": []
    },
    {
      "cell_type": "code",
      "source": [
        "mask_new = mask[1: , :-1] # mask 첫번째 행, 마지막 열 제거하기\n",
        "cor_new = car_cor.iloc[1: , :-1] # 상관행렬 첫번째 행, 마지막 열 제거하기"
      ],
      "metadata": {
        "id": "3Kxg-6Eeu5Vp"
      },
      "execution_count": null,
      "outputs": []
    },
    {
      "cell_type": "code",
      "source": [
        "# 컬러맵 만들기\n",
        "sns.heatmap(cor_new, annot = True, cmap = 'RdBu', mask = mask_new)"
      ],
      "metadata": {
        "id": "4ubzufgxvPZJ"
      },
      "execution_count": null,
      "outputs": []
    },
    {
      "cell_type": "code",
      "source": [
        "# 컬러맵 만들기\n",
        "sns.heatmap(cor_new, annot = True, cmap = 'RdBu', mask = mask_new, linewidths = 5, vmax = 1, vmin = -1, cbar_kws = {\"shrink\": .5})"
      ],
      "metadata": {
        "id": "5XQ6B5pbvStX"
      },
      "execution_count": null,
      "outputs": []
    },
    {
      "cell_type": "code",
      "source": [],
      "metadata": {
        "id": "QlgQKwz-wGRA"
      },
      "execution_count": null,
      "outputs": []
    }
  ]
}