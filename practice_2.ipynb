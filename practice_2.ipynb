{
  "nbformat": 4,
  "nbformat_minor": 0,
  "metadata": {
    "colab": {
      "private_outputs": true,
      "provenance": [],
      "mount_file_id": "1CyWGOXsIEs8c54h3caX2tHRty_nE56-L",
      "authorship_tag": "ABX9TyNZ070hdnWdhcAo0myzT+fv",
      "include_colab_link": true
    },
    "kernelspec": {
      "name": "python3",
      "display_name": "Python 3"
    },
    "language_info": {
      "name": "python"
    }
  },
  "cells": [
    {
      "cell_type": "markdown",
      "metadata": {
        "id": "view-in-github",
        "colab_type": "text"
      },
      "source": [
        "<a href=\"https://colab.research.google.com/github/chaiminwoo0223/Data-Analysis/blob/main/practice_2.ipynb\" target=\"_parent\"><img src=\"https://colab.research.google.com/assets/colab-badge.svg\" alt=\"Open In Colab\"/></a>"
      ]
    },
    {
      "cell_type": "code",
      "source": [
        "import pandas as pd\n",
        "exam = pd.read_csv('/content/drive/MyDrive/수업/데이터 분석 입문/강의자료/Data/midwest.csv')\n",
        "exam"
      ],
      "metadata": {
        "id": "zEQfapHIz2-4"
      },
      "execution_count": null,
      "outputs": []
    },
    {
      "cell_type": "code",
      "source": [
        "exam['poptotal']"
      ],
      "metadata": {
        "id": "oozIeSlh2mkD"
      },
      "execution_count": null,
      "outputs": []
    },
    {
      "cell_type": "code",
      "source": [
        "exam['popadults']"
      ],
      "metadata": {
        "id": "3FLgptkD2qfC"
      },
      "execution_count": null,
      "outputs": []
    },
    {
      "cell_type": "code",
      "source": [
        "exam['poptotal'] - exam['popadults']"
      ],
      "metadata": {
        "id": "LQe1kNGA2uoC"
      },
      "execution_count": null,
      "outputs": []
    },
    {
      "cell_type": "code",
      "source": [
        "percentage = (exam['poptotal'] - exam['popadults']) / exam['poptotal']\n",
        "percentage"
      ],
      "metadata": {
        "id": "27VB6_QF29-K"
      },
      "execution_count": null,
      "outputs": []
    },
    {
      "cell_type": "code",
      "source": [
        "# 미성년 인구 백분율\n",
        "exam = exam.assign(pop_minority = percentage * 100)\n",
        "exam"
      ],
      "metadata": {
        "id": "60mNHsmf0Ncr"
      },
      "execution_count": null,
      "outputs": []
    },
    {
      "cell_type": "code",
      "source": [
        "exam.sort_values('pop_minority',ascending=False) # 미성년 인구 백분율 내림차순 정렬"
      ],
      "metadata": {
        "id": "dwK_Mgf460kJ"
      },
      "execution_count": null,
      "outputs": []
    },
    {
      "cell_type": "code",
      "source": [
        "# 상위 5개 county(지역)의 미성년 인구 백분율\n",
        "exam.sort_values('pop_minority',ascending=False)\\\n",
        "    .head()\\\n",
        "    [['county','pop_minority']]"
      ],
      "metadata": {
        "id": "cfJ90rTy2OiD"
      },
      "execution_count": null,
      "outputs": []
    },
    {
      "cell_type": "code",
      "source": [
        "# 미성년 비율 등급 변수 추가\n",
        "import numpy as np\n",
        "exam = exam.assign(grade = np.where(exam['pop_minority'] >= 40,'large',\n",
        "                           np.where(exam['pop_minority'] >= 30,'middle','small')))\n",
        "exam"
      ],
      "metadata": {
        "id": "NCr6XiOe4kP7"
      },
      "execution_count": null,
      "outputs": []
    },
    {
      "cell_type": "code",
      "source": [
        "exam.groupby('grade').agg(count = ('grade','count')) # 등급별 빈도"
      ],
      "metadata": {
        "id": "eQG83UBo94tb"
      },
      "execution_count": null,
      "outputs": []
    },
    {
      "cell_type": "code",
      "source": [
        "exam['popasian']"
      ],
      "metadata": {
        "id": "insSJ8v5Cc1Y"
      },
      "execution_count": null,
      "outputs": []
    },
    {
      "cell_type": "code",
      "source": [
        "exam['poptotal']"
      ],
      "metadata": {
        "id": "3P3cwoyL-jcS"
      },
      "execution_count": null,
      "outputs": []
    },
    {
      "cell_type": "code",
      "source": [
        "percentage = exam['popasian'] / exam['poptotal']\n",
        "percentage"
      ],
      "metadata": {
        "id": "VegBPfsVCfw7"
      },
      "execution_count": null,
      "outputs": []
    },
    {
      "cell_type": "code",
      "source": [
        "# 아시아인 인구 백분율 추가\n",
        "exam = exam.assign(asian_minority = percentage * 100)\n",
        "exam"
      ],
      "metadata": {
        "id": "O64SVQylCR-v"
      },
      "execution_count": null,
      "outputs": []
    },
    {
      "cell_type": "code",
      "source": [
        "exam.sort_values('asian_minority') # 아시아인 인구 백분율 오름차순 정렬"
      ],
      "metadata": {
        "id": "k3JpfCrRDvZV"
      },
      "execution_count": null,
      "outputs": []
    },
    {
      "cell_type": "code",
      "source": [
        "# 하위 10개 state(주), county(지역), 아시아인 인구 백분율\n",
        "exam.sort_values('asian_minority').head(10)\\\n",
        "    [['state','county','asian_minority']]"
      ],
      "metadata": {
        "id": "xHWWff8oEN58"
      },
      "execution_count": null,
      "outputs": []
    },
    {
      "cell_type": "code",
      "source": [],
      "metadata": {
        "id": "LSOATw7MMVRD"
      },
      "execution_count": null,
      "outputs": []
    }
  ]
}